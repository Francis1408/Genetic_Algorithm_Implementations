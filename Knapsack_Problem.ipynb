{
 "cells": [
  {
   "cell_type": "markdown",
   "id": "8b397531",
   "metadata": {},
   "source": [
    "# Problema da Mochila\n"
   ]
  },
  {
   "cell_type": "markdown",
   "id": "258f776c",
   "metadata": {},
   "source": [
    "### Solução por Força Bruta"
   ]
  },
  {
   "cell_type": "code",
   "execution_count": 49,
   "id": "7f17625f",
   "metadata": {},
   "outputs": [],
   "source": [
    "import random\n",
    "from itertools import combinations\n",
    "import time\n",
    "import matplotlib.pyplot as plt"
   ]
  },
  {
   "cell_type": "code",
   "execution_count": 41,
   "id": "e004925a",
   "metadata": {},
   "outputs": [],
   "source": [
    "# Quantidade total de items\n",
    "num_items = 15"
   ]
  },
  {
   "cell_type": "code",
   "execution_count": 42,
   "id": "8a1f05e6",
   "metadata": {},
   "outputs": [],
   "source": [
    "# Capacidade da mochila\n",
    "sack_capacity = 50"
   ]
  },
  {
   "cell_type": "code",
   "execution_count": 43,
   "id": "6dcbf017",
   "metadata": {},
   "outputs": [],
   "source": [
    "# Atribuindo pesos para cada item randomicamente\n",
    "\n",
    "def generateItems(num_items):\n",
    "    items = [\n",
    "        {'weight': random.randint(1,20), 'value': random.randint(10, 100)}\n",
    "        for _ in range(num_items)\n",
    "    ]\n",
    "    return items\n",
    "    \n",
    "\n",
    "items = generateItems(num_items)"
   ]
  },
  {
   "cell_type": "code",
   "execution_count": 44,
   "id": "04803b24",
   "metadata": {},
   "outputs": [
    {
     "name": "stdout",
     "output_type": "stream",
     "text": [
      "Item 1: {'weight': 11, 'value': 10}\n",
      "Item 2: {'weight': 7, 'value': 99}\n",
      "Item 3: {'weight': 3, 'value': 29}\n",
      "Item 4: {'weight': 19, 'value': 23}\n",
      "Item 5: {'weight': 16, 'value': 11}\n",
      "Item 6: {'weight': 14, 'value': 96}\n",
      "Item 7: {'weight': 4, 'value': 18}\n",
      "Item 8: {'weight': 13, 'value': 94}\n",
      "Item 9: {'weight': 3, 'value': 100}\n",
      "Item 10: {'weight': 6, 'value': 46}\n",
      "Item 11: {'weight': 11, 'value': 51}\n",
      "Item 12: {'weight': 4, 'value': 70}\n",
      "Item 13: {'weight': 18, 'value': 15}\n",
      "Item 14: {'weight': 20, 'value': 64}\n",
      "Item 15: {'weight': 4, 'value': 30}\n"
     ]
    }
   ],
   "source": [
    "for i, item in enumerate(items):\n",
    "    print(f'Item {i + 1}: {item}')"
   ]
  },
  {
   "cell_type": "markdown",
   "id": "56afd2a2",
   "metadata": {},
   "source": [
    "#### Algoritmo de Força Bruta"
   ]
  },
  {
   "cell_type": "code",
   "execution_count": 36,
   "id": "360aa2ab",
   "metadata": {},
   "outputs": [],
   "source": [
    "def knapsack_brute_force(items, capacity):\n",
    "\n",
    "    start = time.time() # Registra o tempo de execução\n",
    "\n",
    "    n = len(items)\n",
    "    best_value = 0\n",
    "    best_combination = None\n",
    "    used_capacity = None\n",
    "    \n",
    "    for r in range(n + 1): #Quantidade de elementos na combinação\n",
    "        for combination in combinations(items, r): #Combinação de r itens\n",
    "            total_weight = sum(item['weight'] for item in combination)\n",
    "            total_value = sum(item['value'] for item in combination)\n",
    "            if total_weight <= capacity and total_value > best_value:\n",
    "                best_value = total_value\n",
    "                best_combination = combination\n",
    "                used_capacity = total_weight\n",
    "\n",
    "    end = time.time() - start # Coleta o tempo de execução\n",
    "\n",
    "    return best_value, best_combination, used_capacity, end"
   ]
  },
  {
   "cell_type": "code",
   "execution_count": 46,
   "id": "0f67ad0e",
   "metadata": {},
   "outputs": [
    {
     "name": "stdout",
     "output_type": "stream",
     "text": [
      "Combinacao Final: 1 2 5 7 8 9 11 \n",
      "Valor Final: 534\n",
      "Capacidade Final: 50\n",
      "Tempo Total: 0.0506 s\n"
     ]
    }
   ],
   "source": [
    "final_value, final_combination, final_capacity, time = knapsack_brute_force(items, sack_capacity)\n",
    "\n",
    "print('Combinacao Final:', end=' ')\n",
    "for item in final_combination:\n",
    "    index = items.index(item)\n",
    "    print(index, end=' ')\n",
    "print(f'\\nValor Final: {final_value}\\nCapacidade Final: {final_capacity}\\nTempo Total: {time:.4f} s')"
   ]
  },
  {
   "cell_type": "markdown",
   "id": "a38999e0",
   "metadata": {},
   "source": [
    "### Introduzindo novos items na mochila"
   ]
  },
  {
   "cell_type": "code",
   "execution_count": 38,
   "id": "85e19ce1",
   "metadata": {},
   "outputs": [
    {
     "data": {
      "text/plain": [
       "[1.4326226711273193,\n",
       " 5.88180136680603,\n",
       " 25.755443572998047,\n",
       " 111.34951567649841,\n",
       " 2032.8912761211395]"
      ]
     },
     "execution_count": 38,
     "metadata": {},
     "output_type": "execute_result"
    }
   ],
   "source": [
    "times = []\n",
    "\n",
    "# 20 Itens \n",
    "items = generateItems(20)\n",
    "*_, final_time = knapsack_brute_force(items, sack_capacity)\n",
    "\n",
    "times.append(final_time)\n",
    "\n",
    "# 22 Itens \n",
    "items = generateItems(22)\n",
    "*_, final_time = knapsack_brute_force(items, sack_capacity)\n",
    "\n",
    "times.append(final_time)\n",
    "\n",
    "# 24 Itens \n",
    "items = generateItems(24)\n",
    "*_, final_time = knapsack_brute_force(items, sack_capacity)\n",
    "\n",
    "times.append(final_time)\n",
    "\n",
    "\n",
    "# 26 Itens \n",
    "items = generateItems(26)\n",
    "*_, final_time = knapsack_brute_force(items, sack_capacity)\n",
    "\n",
    "times.append(final_time)\n",
    "\n",
    "\n",
    "# 30 Itens \n",
    "items = generateItems(30)\n",
    "*_, final_time = knapsack_brute_force(items, sack_capacity)\n",
    "\n",
    "times.append(final_time)\n",
    "\n",
    "\n",
    "times"
   ]
  },
  {
   "cell_type": "markdown",
   "id": "b9d9bedc",
   "metadata": {},
   "source": [
    "### Plotando os gráficos"
   ]
  },
  {
   "cell_type": "code",
   "execution_count": null,
   "id": "a6c706c2",
   "metadata": {},
   "outputs": [
    {
     "name": "stdout",
     "output_type": "stream",
     "text": [
      "[0.050644874572753906, 1.4326226711273193, 5.88180136680603, 25.755443572998047, 111.34951567649841, 2032.8912761211395]\n",
      "[15, 20, 22, 24, 26, 30]\n"
     ]
    }
   ],
   "source": [
    "#Inserindo valores de 15 itens\n",
    "times.insert(0, time)\n",
    "num_items = [15, 20, 22, 24, 26, 30]\n",
    "\n",
    "print(times)\n",
    "print(num_items)"
   ]
  },
  {
   "cell_type": "code",
   "execution_count": 52,
   "id": "736a484c",
   "metadata": {},
   "outputs": [
    {
     "data": {
      "image/png": "[encoded data removed]",
      "text/plain": [
       "<Figure size 640x480 with 1 Axes>"
      ]
     },
     "metadata": {},
     "output_type": "display_data"
    }
   ],
   "source": [
    "# Função de plotar\n",
    "plt.plot(num_items, times, marker='o', linestyle='-', color='b', label='Line 1')\n",
    "\n",
    "#Definindo titulo e legendas\n",
    "plt.xlabel('Num de itens')\n",
    "plt.ylabel('Tempo (s)')\n",
    "plt.title('Tempo de execução - Problema da Mochila - Força Bruta')\n",
    "plt.grid(True)"
   ]
  },
  {
   "cell_type": "markdown",
   "id": "9218d6d5",
   "metadata": {},
   "source": [
    "## Solução por Algoritmo Genético"
   ]
  },
  {
   "cell_type": "markdown",
   "id": "b143bcc5",
   "metadata": {},
   "source": [
    "Tamanho da população: 100\n",
    "Forma de Seleção: Rank Selection + Wheel "
   ]
  },
  {
   "cell_type": "code",
   "execution_count": 72,
   "id": "01e6b4dc",
   "metadata": {},
   "outputs": [],
   "source": [
    "# Parametros iniciais\n",
    "NUM_ITEMS = 15\n",
    "POP_SIZE = 100\n",
    "CAPACITY = 50"
   ]
  },
  {
   "cell_type": "code",
   "execution_count": 73,
   "id": "f8cbb7c8",
   "metadata": {},
   "outputs": [],
   "source": [
    "items = generateItems(NUM_ITEMS)"
   ]
  },
  {
   "cell_type": "code",
   "execution_count": 74,
   "id": "2d879634",
   "metadata": {},
   "outputs": [
    {
     "name": "stdout",
     "output_type": "stream",
     "text": [
      "Item 1: {'weight': 12, 'value': 63}\n",
      "Item 2: {'weight': 4, 'value': 91}\n",
      "Item 3: {'weight': 18, 'value': 60}\n",
      "Item 4: {'weight': 15, 'value': 44}\n",
      "Item 5: {'weight': 13, 'value': 12}\n",
      "Item 6: {'weight': 1, 'value': 11}\n",
      "Item 7: {'weight': 4, 'value': 25}\n",
      "Item 8: {'weight': 6, 'value': 57}\n",
      "Item 9: {'weight': 11, 'value': 47}\n",
      "Item 10: {'weight': 3, 'value': 38}\n",
      "Item 11: {'weight': 9, 'value': 25}\n",
      "Item 12: {'weight': 13, 'value': 24}\n",
      "Item 13: {'weight': 7, 'value': 29}\n",
      "Item 14: {'weight': 13, 'value': 12}\n",
      "Item 15: {'weight': 12, 'value': 10}\n"
     ]
    }
   ],
   "source": [
    "for i, item in enumerate(items):\n",
    "    print(f'Item {i + 1}: {item}')"
   ]
  },
  {
   "cell_type": "code",
   "execution_count": 75,
   "id": "57927f0f",
   "metadata": {},
   "outputs": [],
   "source": [
    "# Definição da população inicial (binaria)\n",
    "\n",
    "def generateIndividual():\n",
    "    return [random.randint(0, 1) for _ in range(NUM_ITEMS)]\n",
    "\n",
    "# Inicialização da população\n",
    "def generatePopulation():\n",
    "    return [generateIndividual() for _ in range(POP_SIZE)]"
   ]
  },
  {
   "cell_type": "code",
   "execution_count": 76,
   "id": "c833fd07",
   "metadata": {},
   "outputs": [
    {
     "data": {
      "text/plain": [
       "[[1, 0, 1, 0, 0, 1, 0, 0, 0, 0, 1, 0, 1, 0, 0],\n",
       " [1, 0, 0, 1, 1, 0, 1, 0, 0, 0, 0, 0, 1, 0, 1],\n",
       " [1, 0, 1, 1, 0, 1, 0, 1, 1, 0, 1, 0, 0, 0, 0],\n",
       " [1, 0, 1, 1, 1, 1, 0, 1, 0, 1, 1, 0, 1, 0, 1],\n",
       " [0, 0, 1, 0, 0, 1, 1, 1, 0, 1, 1, 1, 0, 0, 1],\n",
       " [1, 1, 0, 0, 0, 1, 0, 0, 1, 1, 1, 1, 0, 1, 1],\n",
       " [0, 1, 0, 1, 1, 0, 0, 1, 0, 0, 0, 1, 1, 0, 0],\n",
       " [1, 1, 1, 0, 0, 0, 1, 0, 1, 0, 0, 0, 0, 1, 0],\n",
       " [1, 0, 0, 1, 0, 1, 1, 1, 0, 0, 0, 0, 0, 1, 1],\n",
       " [1, 1, 1, 0, 0, 1, 1, 1, 0, 0, 1, 0, 1, 1, 0],\n",
       " [0, 0, 1, 0, 0, 0, 0, 1, 0, 1, 0, 1, 1, 0, 0],\n",
       " [0, 0, 1, 1, 0, 1, 0, 1, 1, 0, 1, 0, 0, 0, 1],\n",
       " [0, 1, 0, 1, 1, 0, 1, 0, 1, 1, 1, 1, 0, 1, 0],\n",
       " [1, 1, 0, 1, 0, 0, 1, 0, 0, 0, 0, 0, 1, 1, 1],\n",
       " [0, 1, 1, 1, 0, 1, 0, 0, 0, 0, 1, 1, 1, 0, 1],\n",
       " [1, 0, 1, 0, 0, 1, 0, 1, 1, 0, 0, 0, 1, 0, 1],\n",
       " [0, 1, 0, 0, 1, 1, 1, 0, 1, 0, 0, 1, 1, 1, 1],\n",
       " [1, 1, 1, 0, 0, 0, 0, 0, 0, 0, 1, 1, 1, 0, 1],\n",
       " [0, 0, 0, 0, 1, 1, 1, 1, 0, 0, 0, 0, 1, 0, 1],\n",
       " [1, 1, 1, 0, 1, 0, 0, 1, 1, 0, 1, 1, 0, 0, 1],\n",
       " [0, 1, 0, 0, 0, 0, 1, 1, 0, 1, 0, 1, 1, 0, 1],\n",
       " [1, 0, 1, 1, 0, 0, 1, 0, 0, 1, 0, 0, 0, 0, 1],\n",
       " [0, 0, 0, 0, 0, 0, 1, 1, 0, 1, 0, 0, 1, 1, 0],\n",
       " [0, 1, 0, 0, 1, 1, 1, 0, 1, 0, 0, 1, 0, 1, 1],\n",
       " [0, 0, 1, 0, 1, 0, 0, 0, 0, 0, 1, 1, 1, 0, 0],\n",
       " [1, 1, 0, 0, 0, 0, 0, 0, 0, 0, 0, 1, 0, 0, 0],\n",
       " [0, 0, 0, 1, 0, 0, 0, 1, 0, 1, 0, 0, 0, 0, 0],\n",
       " [0, 1, 1, 0, 1, 0, 1, 1, 1, 0, 1, 0, 1, 1, 1],\n",
       " [1, 0, 0, 1, 0, 1, 1, 1, 0, 1, 0, 1, 1, 1, 1],\n",
       " [1, 0, 1, 0, 1, 1, 0, 1, 0, 0, 0, 1, 1, 1, 1],\n",
       " [0, 1, 1, 0, 1, 0, 0, 0, 0, 0, 0, 0, 0, 1, 0],\n",
       " [1, 1, 1, 1, 1, 0, 1, 1, 1, 1, 1, 1, 1, 0, 1],\n",
       " [0, 0, 0, 1, 0, 0, 1, 1, 1, 0, 1, 0, 0, 1, 1],\n",
       " [0, 1, 1, 0, 0, 0, 0, 1, 0, 0, 0, 1, 1, 1, 0],\n",
       " [1, 1, 0, 0, 0, 1, 1, 0, 0, 1, 1, 1, 1, 1, 1],\n",
       " [1, 0, 0, 0, 0, 0, 0, 1, 1, 0, 0, 0, 0, 1, 1],\n",
       " [1, 1, 1, 0, 0, 1, 1, 0, 0, 0, 0, 0, 1, 1, 1],\n",
       " [1, 0, 1, 1, 1, 0, 0, 1, 0, 0, 0, 0, 0, 1, 1],\n",
       " [0, 1, 0, 0, 0, 1, 1, 1, 1, 0, 1, 1, 1, 1, 0],\n",
       " [0, 0, 0, 1, 0, 0, 1, 0, 1, 0, 1, 0, 0, 0, 0],\n",
       " [1, 0, 0, 1, 0, 0, 0, 1, 1, 0, 1, 1, 1, 0, 1],\n",
       " [0, 0, 0, 1, 1, 1, 0, 0, 1, 1, 1, 1, 0, 0, 0],\n",
       " [1, 0, 0, 1, 0, 1, 1, 1, 0, 0, 0, 1, 0, 0, 0],\n",
       " [0, 1, 0, 1, 1, 0, 0, 0, 1, 1, 0, 1, 1, 0, 1],\n",
       " [1, 0, 0, 0, 1, 1, 0, 1, 1, 0, 1, 0, 0, 0, 1],\n",
       " [1, 0, 0, 0, 1, 1, 1, 1, 1, 0, 0, 1, 1, 0, 0],\n",
       " [1, 1, 1, 0, 1, 1, 1, 0, 0, 1, 0, 1, 1, 1, 0],\n",
       " [0, 1, 1, 0, 1, 0, 1, 0, 0, 0, 0, 1, 1, 0, 0],\n",
       " [0, 1, 0, 0, 1, 0, 1, 1, 1, 1, 0, 0, 1, 1, 1],\n",
       " [1, 1, 0, 0, 1, 1, 1, 0, 0, 0, 1, 0, 0, 1, 0],\n",
       " [0, 1, 1, 0, 1, 1, 1, 1, 0, 0, 1, 0, 0, 0, 0],\n",
       " [1, 0, 1, 0, 0, 0, 1, 1, 1, 0, 0, 0, 0, 1, 1],\n",
       " [0, 0, 0, 0, 1, 1, 0, 0, 0, 0, 0, 1, 0, 1, 0],\n",
       " [0, 1, 1, 1, 0, 1, 0, 1, 1, 1, 1, 1, 0, 1, 0],\n",
       " [1, 1, 1, 1, 1, 1, 1, 0, 1, 0, 1, 1, 0, 0, 0],\n",
       " [0, 1, 0, 0, 0, 0, 0, 0, 0, 0, 1, 1, 0, 1, 0],\n",
       " [0, 1, 0, 1, 1, 0, 0, 1, 0, 1, 1, 0, 0, 0, 1],\n",
       " [1, 1, 0, 1, 1, 0, 1, 0, 1, 1, 0, 0, 0, 0, 1],\n",
       " [1, 0, 0, 1, 0, 0, 0, 0, 1, 1, 1, 1, 0, 0, 0],\n",
       " [1, 1, 1, 0, 1, 1, 1, 0, 0, 1, 0, 0, 1, 1, 1],\n",
       " [0, 0, 1, 1, 1, 1, 0, 0, 0, 1, 1, 0, 1, 1, 1],\n",
       " [0, 1, 0, 1, 0, 0, 1, 0, 0, 1, 0, 0, 1, 0, 1],\n",
       " [1, 0, 1, 0, 0, 1, 0, 1, 0, 1, 1, 1, 1, 1, 1],\n",
       " [0, 0, 1, 0, 1, 1, 1, 1, 0, 0, 0, 0, 0, 0, 1],\n",
       " [1, 0, 0, 0, 1, 1, 1, 1, 1, 0, 0, 0, 0, 1, 1],\n",
       " [1, 1, 1, 0, 0, 1, 1, 1, 1, 1, 0, 0, 0, 0, 0],\n",
       " [1, 1, 0, 1, 1, 1, 1, 1, 1, 0, 1, 1, 1, 1, 0],\n",
       " [0, 1, 1, 1, 0, 1, 0, 0, 0, 0, 0, 1, 0, 0, 1],\n",
       " [1, 1, 1, 0, 1, 1, 0, 0, 0, 0, 0, 0, 0, 1, 0],\n",
       " [1, 1, 0, 1, 0, 0, 1, 1, 0, 1, 0, 1, 1, 1, 0],\n",
       " [1, 1, 0, 0, 1, 1, 0, 0, 0, 1, 1, 1, 0, 0, 1],\n",
       " [1, 1, 1, 0, 1, 1, 1, 1, 1, 1, 0, 0, 0, 1, 0],\n",
       " [0, 0, 1, 0, 0, 0, 0, 1, 1, 0, 1, 0, 0, 0, 0],\n",
       " [0, 1, 0, 1, 0, 0, 0, 0, 1, 0, 1, 0, 0, 1, 0],\n",
       " [0, 1, 0, 1, 1, 0, 1, 0, 1, 1, 0, 0, 1, 1, 1],\n",
       " [0, 0, 0, 0, 1, 0, 1, 0, 0, 0, 0, 1, 1, 0, 0],\n",
       " [0, 0, 0, 0, 0, 1, 1, 0, 1, 0, 0, 0, 0, 1, 0],\n",
       " [1, 0, 0, 0, 1, 0, 0, 1, 0, 1, 0, 1, 0, 1, 1],\n",
       " [0, 1, 0, 0, 1, 0, 1, 1, 1, 1, 1, 1, 0, 0, 0],\n",
       " [1, 0, 1, 1, 1, 1, 1, 0, 0, 1, 0, 1, 1, 0, 0],\n",
       " [0, 0, 1, 1, 1, 1, 1, 1, 0, 1, 0, 1, 0, 1, 1],\n",
       " [0, 1, 1, 0, 1, 0, 0, 0, 1, 0, 1, 0, 1, 0, 1],\n",
       " [0, 1, 1, 1, 0, 1, 0, 1, 1, 0, 1, 1, 0, 0, 0],\n",
       " [1, 0, 1, 1, 0, 0, 1, 1, 0, 1, 1, 1, 1, 0, 0],\n",
       " [1, 1, 0, 0, 1, 1, 0, 0, 1, 0, 1, 0, 1, 1, 1],\n",
       " [1, 1, 0, 0, 0, 0, 1, 1, 0, 0, 0, 1, 1, 1, 1],\n",
       " [0, 0, 0, 1, 0, 1, 1, 0, 1, 0, 1, 1, 0, 0, 0],\n",
       " [0, 1, 1, 1, 0, 0, 1, 1, 0, 1, 0, 0, 0, 0, 0],\n",
       " [1, 1, 0, 1, 0, 0, 1, 1, 1, 1, 1, 1, 0, 0, 1],\n",
       " [1, 1, 1, 0, 1, 0, 1, 1, 0, 0, 1, 1, 0, 1, 1],\n",
       " [0, 0, 0, 1, 1, 0, 1, 1, 0, 0, 0, 1, 1, 1, 0],\n",
       " [0, 1, 1, 0, 0, 0, 1, 1, 0, 0, 0, 1, 0, 1, 1],\n",
       " [0, 1, 1, 0, 1, 0, 0, 1, 1, 1, 0, 0, 1, 0, 0],\n",
       " [0, 1, 0, 0, 1, 1, 1, 1, 0, 0, 0, 0, 1, 0, 0],\n",
       " [1, 0, 0, 0, 1, 0, 1, 1, 1, 0, 1, 0, 1, 0, 0],\n",
       " [0, 0, 1, 0, 0, 1, 1, 0, 1, 1, 0, 1, 0, 1, 1],\n",
       " [0, 0, 0, 1, 1, 1, 1, 1, 0, 0, 1, 1, 1, 0, 1],\n",
       " [0, 1, 0, 1, 0, 0, 0, 1, 0, 1, 1, 1, 0, 0, 0],\n",
       " [0, 0, 1, 0, 1, 1, 0, 0, 0, 1, 0, 0, 1, 0, 1],\n",
       " [0, 0, 1, 1, 0, 0, 1, 0, 0, 0, 1, 1, 1, 1, 0]]"
      ]
     },
     "execution_count": 76,
     "metadata": {},
     "output_type": "execute_result"
    }
   ],
   "source": [
    "population = generatePopulation()\n",
    "\n",
    "population"
   ]
  },
  {
   "cell_type": "markdown",
   "id": "118cefe7",
   "metadata": {},
   "source": [
    "### Avalição de cada indivíduo"
   ]
  },
  {
   "cell_type": "code",
   "execution_count": 77,
   "id": "436742aa",
   "metadata": {},
   "outputs": [],
   "source": [
    "#Função de avaliação (fitness)\n",
    "\n",
    "def fitness(individual):\n",
    "    total_weight = total_value = 0\n",
    "    #Percorre o cromossomo do indivíduo\n",
    "    for gene, item in zip(individual, items):\n",
    "        #Se o bit for igual a 1, o item será incluído na mochila\n",
    "        if gene:\n",
    "            #Calcula o peso e o valor\n",
    "            total_weight += item['weight']\n",
    "            total_value += item['value'] \n",
    "        # Se excedeu a capacidade máxima\n",
    "        if total_weight > CAPACITY:\n",
    "            return 0 # Penalização\n",
    "    #Quanto maior o valor, melhor o fitness\n",
    "    return total_value"
   ]
  },
  {
   "cell_type": "code",
   "execution_count": 78,
   "id": "c4ad6b5d",
   "metadata": {},
   "outputs": [
    {
     "data": {
      "text/plain": [
       "[([1, 0, 1, 0, 0, 1, 0, 0, 0, 0, 1, 0, 1, 0, 0], 188),\n",
       " ([1, 0, 0, 1, 1, 0, 1, 0, 0, 0, 0, 0, 1, 0, 1], 0),\n",
       " ([1, 0, 1, 1, 0, 1, 0, 1, 1, 0, 1, 0, 0, 0, 0], 0),\n",
       " ([1, 0, 1, 1, 1, 1, 0, 1, 0, 1, 1, 0, 1, 0, 1], 0),\n",
       " ([0, 0, 1, 0, 0, 1, 1, 1, 0, 1, 1, 1, 0, 0, 1], 0),\n",
       " ([1, 1, 0, 0, 0, 1, 0, 0, 1, 1, 1, 1, 0, 1, 1], 0),\n",
       " ([0, 1, 0, 1, 1, 0, 0, 1, 0, 0, 0, 1, 1, 0, 0], 0),\n",
       " ([1, 1, 1, 0, 0, 0, 1, 0, 1, 0, 0, 0, 0, 1, 0], 0),\n",
       " ([1, 0, 0, 1, 0, 1, 1, 1, 0, 0, 0, 0, 0, 1, 1], 0),\n",
       " ([1, 1, 1, 0, 0, 1, 1, 1, 0, 0, 1, 0, 1, 1, 0], 0),\n",
       " ([0, 0, 1, 0, 0, 0, 0, 1, 0, 1, 0, 1, 1, 0, 0], 208),\n",
       " ([0, 0, 1, 1, 0, 1, 0, 1, 1, 0, 1, 0, 0, 0, 1], 0),\n",
       " ([0, 1, 0, 1, 1, 0, 1, 0, 1, 1, 1, 1, 0, 1, 0], 0),\n",
       " ([1, 1, 0, 1, 0, 0, 1, 0, 0, 0, 0, 0, 1, 1, 1], 0),\n",
       " ([0, 1, 1, 1, 0, 1, 0, 0, 0, 0, 1, 1, 1, 0, 1], 0),\n",
       " ([1, 0, 1, 0, 0, 1, 0, 1, 1, 0, 0, 0, 1, 0, 1], 0),\n",
       " ([0, 1, 0, 0, 1, 1, 1, 0, 1, 0, 0, 1, 1, 1, 1], 0),\n",
       " ([1, 1, 1, 0, 0, 0, 0, 0, 0, 0, 1, 1, 1, 0, 1], 0),\n",
       " ([0, 0, 0, 0, 1, 1, 1, 1, 0, 0, 0, 0, 1, 0, 1], 144),\n",
       " ([1, 1, 1, 0, 1, 0, 0, 1, 1, 0, 1, 1, 0, 0, 1], 0),\n",
       " ([0, 1, 0, 0, 0, 0, 1, 1, 0, 1, 0, 1, 1, 0, 1], 274),\n",
       " ([1, 0, 1, 1, 0, 0, 1, 0, 0, 1, 0, 0, 0, 0, 1], 0),\n",
       " ([0, 0, 0, 0, 0, 0, 1, 1, 0, 1, 0, 0, 1, 1, 0], 161),\n",
       " ([0, 1, 0, 0, 1, 1, 1, 0, 1, 0, 0, 1, 0, 1, 1], 0),\n",
       " ([0, 0, 1, 0, 1, 0, 0, 0, 0, 0, 1, 1, 1, 0, 0], 0),\n",
       " ([1, 1, 0, 0, 0, 0, 0, 0, 0, 0, 0, 1, 0, 0, 0], 178),\n",
       " ([0, 0, 0, 1, 0, 0, 0, 1, 0, 1, 0, 0, 0, 0, 0], 139),\n",
       " ([0, 1, 1, 0, 1, 0, 1, 1, 1, 0, 1, 0, 1, 1, 1], 0),\n",
       " ([1, 0, 0, 1, 0, 1, 1, 1, 0, 1, 0, 1, 1, 1, 1], 0),\n",
       " ([1, 0, 1, 0, 1, 1, 0, 1, 0, 0, 0, 1, 1, 1, 1], 0),\n",
       " ([0, 1, 1, 0, 1, 0, 0, 0, 0, 0, 0, 0, 0, 1, 0], 175),\n",
       " ([1, 1, 1, 1, 1, 0, 1, 1, 1, 1, 1, 1, 1, 0, 1], 0),\n",
       " ([0, 0, 0, 1, 0, 0, 1, 1, 1, 0, 1, 0, 0, 1, 1], 0),\n",
       " ([0, 1, 1, 0, 0, 0, 0, 1, 0, 0, 0, 1, 1, 1, 0], 0),\n",
       " ([1, 1, 0, 0, 0, 1, 1, 0, 0, 1, 1, 1, 1, 1, 1], 0),\n",
       " ([1, 0, 0, 0, 0, 0, 0, 1, 1, 0, 0, 0, 0, 1, 1], 0),\n",
       " ([1, 1, 1, 0, 0, 1, 1, 0, 0, 0, 0, 0, 1, 1, 1], 0),\n",
       " ([1, 0, 1, 1, 1, 0, 0, 1, 0, 0, 0, 0, 0, 1, 1], 0),\n",
       " ([0, 1, 0, 0, 0, 1, 1, 1, 1, 0, 1, 1, 1, 1, 0], 0),\n",
       " ([0, 0, 0, 1, 0, 0, 1, 0, 1, 0, 1, 0, 0, 0, 0], 141),\n",
       " ([1, 0, 0, 1, 0, 0, 0, 1, 1, 0, 1, 1, 1, 0, 1], 0),\n",
       " ([0, 0, 0, 1, 1, 1, 0, 0, 1, 1, 1, 1, 0, 0, 0], 0),\n",
       " ([1, 0, 0, 1, 0, 1, 1, 1, 0, 0, 0, 1, 0, 0, 0], 0),\n",
       " ([0, 1, 0, 1, 1, 0, 0, 0, 1, 1, 0, 1, 1, 0, 1], 0),\n",
       " ([1, 0, 0, 0, 1, 1, 0, 1, 1, 0, 1, 0, 0, 0, 1], 0),\n",
       " ([1, 0, 0, 0, 1, 1, 1, 1, 1, 0, 0, 1, 1, 0, 0], 0),\n",
       " ([1, 1, 1, 0, 1, 1, 1, 0, 0, 1, 0, 1, 1, 1, 0], 0),\n",
       " ([0, 1, 1, 0, 1, 0, 1, 0, 0, 0, 0, 1, 1, 0, 0], 0),\n",
       " ([0, 1, 0, 0, 1, 0, 1, 1, 1, 1, 0, 0, 1, 1, 1], 0),\n",
       " ([1, 1, 0, 0, 1, 1, 1, 0, 0, 0, 1, 0, 0, 1, 0], 0),\n",
       " ([0, 1, 1, 0, 1, 1, 1, 1, 0, 0, 1, 0, 0, 0, 0], 0),\n",
       " ([1, 0, 1, 0, 0, 0, 1, 1, 1, 0, 0, 0, 0, 1, 1], 0),\n",
       " ([0, 0, 0, 0, 1, 1, 0, 0, 0, 0, 0, 1, 0, 1, 0], 59),\n",
       " ([0, 1, 1, 1, 0, 1, 0, 1, 1, 1, 1, 1, 0, 1, 0], 0),\n",
       " ([1, 1, 1, 1, 1, 1, 1, 0, 1, 0, 1, 1, 0, 0, 0], 0),\n",
       " ([0, 1, 0, 0, 0, 0, 0, 0, 0, 0, 1, 1, 0, 1, 0], 152),\n",
       " ([0, 1, 0, 1, 1, 0, 0, 1, 0, 1, 1, 0, 0, 0, 1], 0),\n",
       " ([1, 1, 0, 1, 1, 0, 1, 0, 1, 1, 0, 0, 0, 0, 1], 0),\n",
       " ([1, 0, 0, 1, 0, 0, 0, 0, 1, 1, 1, 1, 0, 0, 0], 0),\n",
       " ([1, 1, 1, 0, 1, 1, 1, 0, 0, 1, 0, 0, 1, 1, 1], 0),\n",
       " ([0, 0, 1, 1, 1, 1, 0, 0, 0, 1, 1, 0, 1, 1, 1], 0),\n",
       " ([0, 1, 0, 1, 0, 0, 1, 0, 0, 1, 0, 0, 1, 0, 1], 237),\n",
       " ([1, 0, 1, 0, 0, 1, 0, 1, 0, 1, 1, 1, 1, 1, 1], 0),\n",
       " ([0, 0, 1, 0, 1, 1, 1, 1, 0, 0, 0, 0, 0, 0, 1], 0),\n",
       " ([1, 0, 0, 0, 1, 1, 1, 1, 1, 0, 0, 0, 0, 1, 1], 0),\n",
       " ([1, 1, 1, 0, 0, 1, 1, 1, 1, 1, 0, 0, 0, 0, 0], 0),\n",
       " ([1, 1, 0, 1, 1, 1, 1, 1, 1, 0, 1, 1, 1, 1, 0], 0),\n",
       " ([0, 1, 1, 1, 0, 1, 0, 0, 0, 0, 0, 1, 0, 0, 1], 0),\n",
       " ([1, 1, 1, 0, 1, 1, 0, 0, 0, 0, 0, 0, 0, 1, 0], 0),\n",
       " ([1, 1, 0, 1, 0, 0, 1, 1, 0, 1, 0, 1, 1, 1, 0], 0),\n",
       " ([1, 1, 0, 0, 1, 1, 0, 0, 0, 1, 1, 1, 0, 0, 1], 0),\n",
       " ([1, 1, 1, 0, 1, 1, 1, 1, 1, 1, 0, 0, 0, 1, 0], 0),\n",
       " ([0, 0, 1, 0, 0, 0, 0, 1, 1, 0, 1, 0, 0, 0, 0], 189),\n",
       " ([0, 1, 0, 1, 0, 0, 0, 0, 1, 0, 1, 0, 0, 1, 0], 0),\n",
       " ([0, 1, 0, 1, 1, 0, 1, 0, 1, 1, 0, 0, 1, 1, 1], 0),\n",
       " ([0, 0, 0, 0, 1, 0, 1, 0, 0, 0, 0, 1, 1, 0, 0], 90),\n",
       " ([0, 0, 0, 0, 0, 1, 1, 0, 1, 0, 0, 0, 0, 1, 0], 95),\n",
       " ([1, 0, 0, 0, 1, 0, 0, 1, 0, 1, 0, 1, 0, 1, 1], 0),\n",
       " ([0, 1, 0, 0, 1, 0, 1, 1, 1, 1, 1, 1, 0, 0, 0], 0),\n",
       " ([1, 0, 1, 1, 1, 1, 1, 0, 0, 1, 0, 1, 1, 0, 0], 0),\n",
       " ([0, 0, 1, 1, 1, 1, 1, 1, 0, 1, 0, 1, 0, 1, 1], 0),\n",
       " ([0, 1, 1, 0, 1, 0, 0, 0, 1, 0, 1, 0, 1, 0, 1], 0),\n",
       " ([0, 1, 1, 1, 0, 1, 0, 1, 1, 0, 1, 1, 0, 0, 0], 0),\n",
       " ([1, 0, 1, 1, 0, 0, 1, 1, 0, 1, 1, 1, 1, 0, 0], 0),\n",
       " ([1, 1, 0, 0, 1, 1, 0, 0, 1, 0, 1, 0, 1, 1, 1], 0),\n",
       " ([1, 1, 0, 0, 0, 0, 1, 1, 0, 0, 0, 1, 1, 1, 1], 0),\n",
       " ([0, 0, 0, 1, 0, 1, 1, 0, 1, 0, 1, 1, 0, 0, 0], 0),\n",
       " ([0, 1, 1, 1, 0, 0, 1, 1, 0, 1, 0, 0, 0, 0, 0], 315),\n",
       " ([1, 1, 0, 1, 0, 0, 1, 1, 1, 1, 1, 1, 0, 0, 1], 0),\n",
       " ([1, 1, 1, 0, 1, 0, 1, 1, 0, 0, 1, 1, 0, 1, 1], 0),\n",
       " ([0, 0, 0, 1, 1, 0, 1, 1, 0, 0, 0, 1, 1, 1, 0], 0),\n",
       " ([0, 1, 1, 0, 0, 0, 1, 1, 0, 0, 0, 1, 0, 1, 1], 0),\n",
       " ([0, 1, 1, 0, 1, 0, 0, 1, 1, 1, 0, 0, 1, 0, 0], 0),\n",
       " ([0, 1, 0, 0, 1, 1, 1, 1, 0, 0, 0, 0, 1, 0, 0], 225),\n",
       " ([1, 0, 0, 0, 1, 0, 1, 1, 1, 0, 1, 0, 1, 0, 0], 0),\n",
       " ([0, 0, 1, 0, 0, 1, 1, 0, 1, 1, 0, 1, 0, 1, 1], 0),\n",
       " ([0, 0, 0, 1, 1, 1, 1, 1, 0, 0, 1, 1, 1, 0, 1], 0),\n",
       " ([0, 1, 0, 1, 0, 0, 0, 1, 0, 1, 1, 1, 0, 0, 0], 279),\n",
       " ([0, 0, 1, 0, 1, 1, 0, 0, 0, 1, 0, 0, 1, 0, 1], 0),\n",
       " ([0, 0, 1, 1, 0, 0, 1, 0, 0, 0, 1, 1, 1, 1, 0], 0)]"
      ]
     },
     "execution_count": 78,
     "metadata": {},
     "output_type": "execute_result"
    }
   ],
   "source": [
    "# Salva o cada individuo com seu valor fitness associado em uma tupla\n",
    "evaluated_population = [(individual, fitness(individual)) for individual in population]\n",
    "\n",
    "evaluated_population"
   ]
  },
  {
   "cell_type": "markdown",
   "id": "7769bee1",
   "metadata": {},
   "source": [
    "### Seleção dos indivíduos\n"
   ]
  },
  {
   "cell_type": "code",
   "execution_count": null,
   "id": "91285f95",
   "metadata": {},
   "outputs": [],
   "source": [
    "# Função de rankeamento \n",
    "\n",
    "def rankAssigment(evaluated_population):\n",
    "    # Ordena a população por ordem cresente de fitness\n",
    "    evaluated_population = sorted(evaluated_population, key=lambda x: x[1],)\n",
    "\n",
    "    # Atribui o valor de ranking para cada individu0\n",
    "    # Sendo menor_fitness = 0 e maior_fitness = POP_SIZE\n",
    "    ranked_population  = [(ind[0], ind[1], rank)for rank , ind in enumerate(evaluated_population)]\n",
    "\n",
    "    return ranked_population\n"
   ]
  },
  {
   "cell_type": "code",
   "execution_count": null,
   "id": "fea44c80",
   "metadata": {},
   "outputs": [],
   "source": [
    "# Função de seleção\n",
    "\n",
    "def rankSelection(ranked_population):\n",
    "    offset = random.random()\n",
    "    sum = 0\n",
    "\n",
    "     # Cria a fatia POP_SIZE(POP_SIZE + 1)/2\n",
    "    population_size = len(ranked_population) \n",
    "    slice = (population_size*(population_size + 1))/2\n",
    "\n",
    "    for individual in ranked_population:\n",
    "        sum += (individual[2] + 1)/slice #\n",
    "        if sum >= offset:\n",
    "            return individual"
   ]
  }
 ],
 "metadata": {
  "kernelspec": {
   "display_name": "Python 3",
   "language": "python",
   "name": "python3"
  },
  "language_info": {
   "codemirror_mode": {
    "name": "ipython",
    "version": 3
   },
   "file_extension": ".py",
   "mimetype": "text/x-python",
   "name": "python",
   "nbconvert_exporter": "python",
   "pygments_lexer": "ipython3",
   "version": "3.12.3"
  }
 },
 "nbformat": 4,
 "nbformat_minor": 5
}
