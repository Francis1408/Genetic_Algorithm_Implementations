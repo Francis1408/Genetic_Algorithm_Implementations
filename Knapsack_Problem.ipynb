{
 "cells": [
  {
   "cell_type": "markdown",
   "id": "8b397531",
   "metadata": {},
   "source": [
    "# Problema da Mochila\n"
   ]
  },
  {
   "cell_type": "markdown",
   "id": "258f776c",
   "metadata": {},
   "source": [
    "### Solução por Força Bruta"
   ]
  },
  {
   "cell_type": "code",
   "execution_count": 27,
   "id": "7f17625f",
   "metadata": {},
   "outputs": [],
   "source": [
    "import random\n",
    "from itertools import combinations\n",
    "import time"
   ]
  },
  {
   "cell_type": "code",
   "execution_count": 1,
   "id": "e004925a",
   "metadata": {},
   "outputs": [],
   "source": [
    "# Quantidade total de items\n",
    "num_items = 15"
   ]
  },
  {
   "cell_type": "code",
   "execution_count": 3,
   "id": "8a1f05e6",
   "metadata": {},
   "outputs": [],
   "source": [
    "# Capacidade da mochila\n",
    "sack_capacity = 50"
   ]
  },
  {
   "cell_type": "code",
   "execution_count": null,
   "id": "6dcbf017",
   "metadata": {},
   "outputs": [],
   "source": [
    "# Atribuindo pesos para cada item randomicamente\n",
    "\n",
    "def generateItems(num_items):\n",
    "    items = [\n",
    "        {'weight': random.randint(1,20), 'value': random.randint(10, 100)}\n",
    "        for _ in range(num_items)\n",
    "    ]\n",
    "    return items\n",
    "    \n",
    "\n",
    "items = generateItems(num_items)"
   ]
  },
  {
   "cell_type": "code",
   "execution_count": 19,
   "id": "04803b24",
   "metadata": {},
   "outputs": [
    {
     "name": "stdout",
     "output_type": "stream",
     "text": [
      "Item 1: {'weight': 17, 'value': 72}\n",
      "Item 2: {'weight': 15, 'value': 65}\n",
      "Item 3: {'weight': 9, 'value': 82}\n",
      "Item 4: {'weight': 10, 'value': 51}\n",
      "Item 5: {'weight': 8, 'value': 100}\n",
      "Item 6: {'weight': 10, 'value': 15}\n",
      "Item 7: {'weight': 5, 'value': 57}\n",
      "Item 8: {'weight': 14, 'value': 30}\n",
      "Item 9: {'weight': 19, 'value': 71}\n",
      "Item 10: {'weight': 4, 'value': 51}\n",
      "Item 11: {'weight': 12, 'value': 37}\n",
      "Item 12: {'weight': 11, 'value': 20}\n",
      "Item 13: {'weight': 12, 'value': 91}\n",
      "Item 14: {'weight': 4, 'value': 92}\n",
      "Item 15: {'weight': 14, 'value': 58}\n"
     ]
    }
   ],
   "source": [
    "for i, item in enumerate(items):\n",
    "    print(f'Item {i + 1}: {item}')"
   ]
  },
  {
   "cell_type": "markdown",
   "id": "56afd2a2",
   "metadata": {},
   "source": [
    "#### Algoritmo de Força Bruta"
   ]
  },
  {
   "cell_type": "code",
   "execution_count": 28,
   "id": "360aa2ab",
   "metadata": {},
   "outputs": [],
   "source": [
    "def knapsack_brute_force(items, capacity):\n",
    "\n",
    "    start = time.time() # Registra o tempo de execução\n",
    "\n",
    "    n = len(items)\n",
    "    best_value = 0\n",
    "    best_combination = None\n",
    "    used_capacity = None\n",
    "    \n",
    "    for r in range(n + 1): #Quantidade de elementos na combinação\n",
    "        for combination in combinations(items, r): #Combinação de r itens\n",
    "            total_weight = sum(item['weight'] for item in combination)\n",
    "            total_value = sum(item['value'] for item in combination)\n",
    "            if total_weight <= capacity and total_value > best_value:\n",
    "                best_value = total_value\n",
    "                best_combination = combination\n",
    "                used_capacity = total_weight\n",
    "\n",
    "    end = time.time() - start # Coleta o tempo de execução\n",
    "\n",
    "    return best_value, best_combination, used_capacity, end"
   ]
  },
  {
   "cell_type": "code",
   "execution_count": 30,
   "id": "0f67ad0e",
   "metadata": {},
   "outputs": [
    {
     "name": "stdout",
     "output_type": "stream",
     "text": [
      "Combinacao Final: 2 3 4 6 12 13 \n",
      "Valor Final: 473\n",
      "Capacidade Final: 48\n",
      "Tempo Total: 0.0523 s\n"
     ]
    }
   ],
   "source": [
    "final_value, final_combination, final_capacity, final_time = knapsack_brute_force(items, sack_capacity)\n",
    "\n",
    "print('Combinacao Final:', end=' ')\n",
    "for item in final_combination:\n",
    "    index = items.index(item)\n",
    "    print(index, end=' ')\n",
    "print(f'\\nValor Final: {final_value}\\nCapacidade Final: {final_capacity}\\nTempo Total: {final_time:.4f} s')"
   ]
  },
  {
   "cell_type": "markdown",
   "id": "a38999e0",
   "metadata": {},
   "source": [
    "### Introduzindo novos items na mochila"
   ]
  },
  {
   "cell_type": "code",
   "execution_count": null,
   "id": "85e19ce1",
   "metadata": {},
   "outputs": [],
   "source": []
  }
 ],
 "metadata": {
  "kernelspec": {
   "display_name": "Python 3",
   "language": "python",
   "name": "python3"
  },
  "language_info": {
   "codemirror_mode": {
    "name": "ipython",
    "version": 3
   },
   "file_extension": ".py",
   "mimetype": "text/x-python",
   "name": "python",
   "nbconvert_exporter": "python",
   "pygments_lexer": "ipython3",
   "version": "3.12.3"
  }
 },
 "nbformat": 4,
 "nbformat_minor": 5
}
