{
 "cells": [
  {
   "cell_type": "markdown",
   "id": "8b397531",
   "metadata": {},
   "source": [
    "# Problema da Mochila\n"
   ]
  },
  {
   "cell_type": "markdown",
   "id": "258f776c",
   "metadata": {},
   "source": [
    "### Solução por Força Bruta"
   ]
  },
  {
   "cell_type": "code",
   "execution_count": 112,
   "id": "7f17625f",
   "metadata": {},
   "outputs": [],
   "source": [
    "import random\n",
    "from itertools import combinations\n",
    "import time\n",
    "import matplotlib.pyplot as plt"
   ]
  },
  {
   "cell_type": "code",
   "execution_count": 113,
   "id": "e004925a",
   "metadata": {},
   "outputs": [],
   "source": [
    "# Quantidade total de items\n",
    "num_items15 = 15"
   ]
  },
  {
   "cell_type": "code",
   "execution_count": 114,
   "id": "8a1f05e6",
   "metadata": {},
   "outputs": [],
   "source": [
    "# Capacidade da mochila\n",
    "sack_capacity = 50"
   ]
  },
  {
   "cell_type": "code",
   "execution_count": 115,
   "id": "6dcbf017",
   "metadata": {},
   "outputs": [],
   "source": [
    "# Atribuindo pesos para cada item randomicamente\n",
    "\n",
    "def generateItems(num_items):\n",
    "    items = [\n",
    "        {'weight': random.randint(1,20), 'value': random.randint(10, 100)}\n",
    "        for _ in range(num_items)\n",
    "    ]\n",
    "    return items\n",
    "    \n",
    "\n",
    "items15 = generateItems(num_items15)"
   ]
  },
  {
   "cell_type": "code",
   "execution_count": 116,
   "id": "04803b24",
   "metadata": {},
   "outputs": [
    {
     "name": "stdout",
     "output_type": "stream",
     "text": [
      "Item 1: {'weight': 10, 'value': 55}\n",
      "Item 2: {'weight': 18, 'value': 48}\n",
      "Item 3: {'weight': 20, 'value': 56}\n",
      "Item 4: {'weight': 2, 'value': 82}\n",
      "Item 5: {'weight': 4, 'value': 23}\n",
      "Item 6: {'weight': 12, 'value': 88}\n",
      "Item 7: {'weight': 11, 'value': 63}\n",
      "Item 8: {'weight': 13, 'value': 24}\n",
      "Item 9: {'weight': 17, 'value': 46}\n",
      "Item 10: {'weight': 6, 'value': 39}\n",
      "Item 11: {'weight': 1, 'value': 20}\n",
      "Item 12: {'weight': 16, 'value': 13}\n",
      "Item 13: {'weight': 1, 'value': 78}\n",
      "Item 14: {'weight': 16, 'value': 69}\n",
      "Item 15: {'weight': 12, 'value': 35}\n"
     ]
    }
   ],
   "source": [
    "for i, item in enumerate(items15):\n",
    "    print(f'Item {i + 1}: {item}')"
   ]
  },
  {
   "cell_type": "markdown",
   "id": "56afd2a2",
   "metadata": {},
   "source": [
    "#### Algoritmo de Força Bruta"
   ]
  },
  {
   "cell_type": "code",
   "execution_count": 117,
   "id": "360aa2ab",
   "metadata": {},
   "outputs": [],
   "source": [
    "def knapsack_brute_force(items, capacity):\n",
    "\n",
    "    start = time.time() # Registra o tempo de execução\n",
    "\n",
    "    n = len(items)\n",
    "    best_value = 0\n",
    "    best_combination = None\n",
    "    used_capacity = None\n",
    "    \n",
    "    for r in range(n + 1): #Quantidade de elementos na combinação\n",
    "        for combination in combinations(items, r): #Combinação de r itens\n",
    "            total_weight = sum(item['weight'] for item in combination)\n",
    "            total_value = sum(item['value'] for item in combination)\n",
    "            if total_weight <= capacity and total_value > best_value:\n",
    "                best_value = total_value\n",
    "                best_combination = combination\n",
    "                used_capacity = total_weight\n",
    "\n",
    "    end = time.time() - start # Coleta o tempo de execução\n",
    "\n",
    "    return best_value, best_combination, used_capacity, end"
   ]
  },
  {
   "cell_type": "code",
   "execution_count": 186,
   "id": "c653f197",
   "metadata": {},
   "outputs": [],
   "source": [
    "# Função para printar os resultados\n",
    "\n",
    "def showResults(value, combination, capacity, time, items):\n",
    "    for item in combination:\n",
    "        index = items.index(item)\n",
    "        print(index, end=' ')\n",
    "    print(f'\\nValor Final: {value}\\nCapacidade Final: {capacity}\\nTempo Total: {time:.4f} s')\n"
   ]
  },
  {
   "cell_type": "code",
   "execution_count": null,
   "id": "0f67ad0e",
   "metadata": {},
   "outputs": [
    {
     "name": "stdout",
     "output_type": "stream",
     "text": [
      "0 3 4 5 6 9 10 12 \n",
      "Valor Final: 448\n",
      "Capacidade Final: 47\n",
      "Tempo Total: 0.0588 s\n"
     ]
    }
   ],
   "source": [
    "# Exibe resultados\n",
    "showResults(*knapsack_brute_force(items15, sack_capacity), items15)"
   ]
  },
  {
   "cell_type": "markdown",
   "id": "a38999e0",
   "metadata": {},
   "source": [
    "### Introduzindo novos items na mochila"
   ]
  },
  {
   "cell_type": "markdown",
   "id": "4b486fae",
   "metadata": {},
   "source": [
    "20 Itens"
   ]
  },
  {
   "cell_type": "code",
   "execution_count": 189,
   "id": "85e19ce1",
   "metadata": {},
   "outputs": [
    {
     "name": "stdout",
     "output_type": "stream",
     "text": [
      "3 4 7 9 13 16 17 18 19 \n",
      "Valor Final: 624\n",
      "Capacidade Final: 50\n",
      "Tempo Total: 1.4099 s\n"
     ]
    }
   ],
   "source": [
    "# 20 Itens \n",
    "items20 = generateItems(20)\n",
    "showResults(*knapsack_brute_force(items20, sack_capacity), items20)"
   ]
  },
  {
   "cell_type": "markdown",
   "id": "b6cdc7b3",
   "metadata": {},
   "source": [
    "22 Itens"
   ]
  },
  {
   "cell_type": "code",
   "execution_count": 190,
   "id": "99752cee",
   "metadata": {},
   "outputs": [
    {
     "name": "stdout",
     "output_type": "stream",
     "text": [
      "1 2 3 6 7 8 11 13 14 16 17 18 \n",
      "Valor Final: 632\n",
      "Capacidade Final: 49\n",
      "Tempo Total: 6.0386 s\n"
     ]
    }
   ],
   "source": [
    "# 22 Itens \n",
    "items22 = generateItems(22)\n",
    "showResults(*knapsack_brute_force(items22, sack_capacity), items22)"
   ]
  },
  {
   "cell_type": "markdown",
   "id": "4aac636f",
   "metadata": {},
   "source": [
    "24 Itens"
   ]
  },
  {
   "cell_type": "code",
   "execution_count": 191,
   "id": "9ed2b647",
   "metadata": {},
   "outputs": [
    {
     "name": "stdout",
     "output_type": "stream",
     "text": [
      "0 1 2 4 9 11 12 14 17 21 22 \n",
      "Valor Final: 724\n",
      "Capacidade Final: 50\n",
      "Tempo Total: 33.7420 s\n"
     ]
    }
   ],
   "source": [
    "# 24 Itens \n",
    "items24 = generateItems(24)\n",
    "showResults(*knapsack_brute_force(items24, sack_capacity), items24)"
   ]
  },
  {
   "cell_type": "markdown",
   "id": "9ff7dc81",
   "metadata": {},
   "source": [
    "26 Itens "
   ]
  },
  {
   "cell_type": "code",
   "execution_count": null,
   "id": "eba0c475",
   "metadata": {},
   "outputs": [],
   "source": [
    "# 26 Itens \n",
    "items26 = generateItems(26)\n",
    "showResults(*knapsack_brute_force(items26, sack_capacity), items26)"
   ]
  },
  {
   "cell_type": "markdown",
   "id": "52c6cfef",
   "metadata": {},
   "source": [
    "30 Itens"
   ]
  },
  {
   "cell_type": "code",
   "execution_count": null,
   "id": "7fd5a316",
   "metadata": {},
   "outputs": [],
   "source": [
    "# 30 Itens \n",
    "items30 = generateItems(30)\n",
    "showResults(*knapsack_brute_force(items30, sack_capacity), items30)"
   ]
  },
  {
   "cell_type": "markdown",
   "id": "b9d9bedc",
   "metadata": {},
   "source": [
    "### Plotando os gráficos"
   ]
  },
  {
   "cell_type": "code",
   "execution_count": null,
   "id": "a6c706c2",
   "metadata": {},
   "outputs": [
    {
     "name": "stdout",
     "output_type": "stream",
     "text": [
      "[0.050644874572753906, 1.4326226711273193, 5.88180136680603, 25.755443572998047, 111.34951567649841, 2032.8912761211395]\n",
      "[15, 20, 22, 24, 26, 30]\n"
     ]
    }
   ],
   "source": [
    "#Inserindo valores de 15 itens\n",
    "times.insert(0, time)\n",
    "num_items = [15, 20, 22, 24, 26, 30]\n",
    "\n",
    "print(times)\n",
    "print(num_items)"
   ]
  },
  {
   "cell_type": "code",
   "execution_count": 52,
   "id": "736a484c",
   "metadata": {},
   "outputs": [
    {
     "data": {
      "image/png": "[encoded data removed]",
      "text/plain": [
       "<Figure size 640x480 with 1 Axes>"
      ]
     },
     "metadata": {},
     "output_type": "display_data"
    }
   ],
   "source": [
    "# Função de plotar\n",
    "plt.plot(num_items, times, marker='o', linestyle='-', color='b', label='Line 1')\n",
    "\n",
    "#Definindo titulo e legendas\n",
    "plt.xlabel('Num de itens')\n",
    "plt.ylabel('Tempo (s)')\n",
    "plt.title('Tempo de execução - Problema da Mochila - Força Bruta')\n",
    "plt.grid(True)"
   ]
  },
  {
   "cell_type": "markdown",
   "id": "9218d6d5",
   "metadata": {},
   "source": [
    "## Solução por Algoritmo Genético"
   ]
  },
  {
   "cell_type": "markdown",
   "id": "b143bcc5",
   "metadata": {},
   "source": [
    "Tamanho da população: 100\n",
    "Forma de Seleção: Rank Selection + Wheel \n",
    "Tipo de Crossover: Uniform Crossover + Two-Point Crossover"
   ]
  },
  {
   "cell_type": "code",
   "execution_count": 141,
   "id": "01e6b4dc",
   "metadata": {},
   "outputs": [],
   "source": [
    "# Parametros iniciais\n",
    "NUM_ITEMS = 15\n",
    "POP_SIZE = 100\n",
    "CAPACITY = 50\n",
    "CROSSOVER_RATE = 0.8\n",
    "DIVISION_NUM = 2\n",
    "MUTATION_RATE = 0.05\n",
    "ELITE_RATE = 0.1\n",
    "GENERATION_NUM = 100"
   ]
  },
  {
   "cell_type": "code",
   "execution_count": 142,
   "id": "f8cbb7c8",
   "metadata": {},
   "outputs": [],
   "source": [
    "items = generateItems(NUM_ITEMS)"
   ]
  },
  {
   "cell_type": "code",
   "execution_count": 143,
   "id": "2d879634",
   "metadata": {},
   "outputs": [
    {
     "name": "stdout",
     "output_type": "stream",
     "text": [
      "Item 1: {'weight': 13, 'value': 84}\n",
      "Item 2: {'weight': 13, 'value': 98}\n",
      "Item 3: {'weight': 5, 'value': 21}\n",
      "Item 4: {'weight': 6, 'value': 81}\n",
      "Item 5: {'weight': 4, 'value': 68}\n",
      "Item 6: {'weight': 1, 'value': 44}\n",
      "Item 7: {'weight': 11, 'value': 22}\n",
      "Item 8: {'weight': 19, 'value': 27}\n",
      "Item 9: {'weight': 16, 'value': 83}\n",
      "Item 10: {'weight': 2, 'value': 77}\n",
      "Item 11: {'weight': 20, 'value': 93}\n",
      "Item 12: {'weight': 8, 'value': 49}\n",
      "Item 13: {'weight': 14, 'value': 36}\n",
      "Item 14: {'weight': 15, 'value': 39}\n",
      "Item 15: {'weight': 4, 'value': 22}\n"
     ]
    }
   ],
   "source": [
    "for i, item in enumerate(items):\n",
    "    print(f'Item {i + 1}: {item}')"
   ]
  },
  {
   "cell_type": "code",
   "execution_count": 144,
   "id": "57927f0f",
   "metadata": {},
   "outputs": [],
   "source": [
    "# Definição da população inicial (binaria)\n",
    "\n",
    "def generateIndividual(items):\n",
    "    return [random.randint(0, 1) for _ in range(len(items))]\n",
    "\n",
    "# Inicialização da população\n",
    "def generatePopulation(items):\n",
    "    return [generateIndividual(items) for _ in range(POP_SIZE)]"
   ]
  },
  {
   "cell_type": "code",
   "execution_count": 145,
   "id": "c833fd07",
   "metadata": {},
   "outputs": [
    {
     "data": {
      "text/plain": [
       "[[0, 1, 1, 1, 0, 1, 1, 1, 0, 1, 1, 0, 0, 1, 1],\n",
       " [0, 0, 0, 1, 1, 1, 1, 0, 0, 1, 1, 1, 0, 1, 1],\n",
       " [1, 1, 1, 1, 1, 0, 1, 1, 1, 1, 0, 0, 0, 1, 0],\n",
       " [1, 0, 0, 1, 0, 1, 0, 0, 0, 1, 0, 1, 0, 1, 0],\n",
       " [1, 0, 1, 1, 1, 0, 0, 0, 1, 1, 0, 0, 1, 0, 1],\n",
       " [1, 1, 1, 1, 0, 0, 0, 1, 1, 0, 1, 0, 1, 1, 1],\n",
       " [1, 1, 0, 1, 0, 0, 0, 0, 0, 0, 0, 0, 0, 0, 1],\n",
       " [1, 0, 0, 1, 1, 0, 1, 1, 0, 1, 0, 1, 1, 1, 0],\n",
       " [0, 1, 1, 0, 0, 1, 1, 0, 0, 0, 1, 0, 1, 0, 0],\n",
       " [0, 0, 1, 0, 0, 1, 1, 0, 0, 1, 0, 0, 1, 0, 1],\n",
       " [1, 0, 1, 1, 1, 1, 1, 0, 1, 1, 0, 0, 1, 0, 0],\n",
       " [0, 0, 1, 1, 1, 0, 1, 0, 0, 1, 1, 0, 0, 0, 0],\n",
       " [1, 0, 1, 1, 0, 1, 1, 0, 0, 0, 1, 0, 1, 1, 1],\n",
       " [0, 1, 0, 1, 0, 0, 1, 1, 0, 1, 0, 0, 1, 1, 0],\n",
       " [1, 0, 1, 1, 1, 1, 1, 1, 0, 1, 0, 0, 0, 1, 1],\n",
       " [0, 1, 1, 1, 0, 1, 1, 0, 0, 0, 0, 1, 1, 0, 0],\n",
       " [0, 1, 1, 0, 1, 1, 0, 1, 0, 1, 0, 0, 1, 1, 1],\n",
       " [0, 0, 1, 1, 0, 1, 0, 1, 1, 1, 1, 0, 0, 0, 1],\n",
       " [0, 0, 0, 1, 0, 1, 1, 1, 1, 0, 0, 0, 0, 1, 0],\n",
       " [1, 1, 1, 0, 0, 0, 0, 0, 1, 1, 1, 0, 0, 0, 0],\n",
       " [1, 1, 0, 0, 0, 0, 0, 0, 0, 1, 1, 0, 0, 1, 1],\n",
       " [1, 0, 0, 1, 1, 1, 1, 1, 0, 0, 1, 1, 1, 0, 0],\n",
       " [0, 0, 0, 0, 0, 1, 1, 1, 0, 0, 0, 0, 1, 0, 1],\n",
       " [0, 0, 1, 0, 1, 0, 0, 1, 0, 1, 1, 1, 0, 0, 0],\n",
       " [0, 1, 0, 1, 0, 0, 0, 0, 1, 1, 0, 0, 0, 0, 0],\n",
       " [0, 1, 0, 0, 1, 1, 0, 1, 0, 1, 1, 1, 0, 1, 1],\n",
       " [0, 0, 1, 0, 0, 0, 1, 1, 1, 1, 1, 0, 0, 0, 0],\n",
       " [1, 0, 1, 0, 0, 1, 1, 0, 1, 0, 0, 1, 0, 1, 1],\n",
       " [0, 1, 1, 0, 1, 1, 1, 0, 1, 0, 0, 0, 1, 1, 1],\n",
       " [1, 1, 0, 0, 0, 1, 0, 0, 0, 1, 0, 1, 1, 0, 0],\n",
       " [0, 1, 1, 1, 0, 0, 1, 0, 1, 0, 1, 0, 1, 1, 1],\n",
       " [0, 1, 1, 1, 0, 1, 1, 0, 0, 1, 0, 1, 0, 0, 1],\n",
       " [1, 1, 0, 1, 1, 0, 1, 0, 1, 0, 0, 1, 1, 0, 1],\n",
       " [1, 0, 0, 1, 0, 0, 0, 0, 1, 0, 0, 0, 1, 1, 0],\n",
       " [0, 1, 0, 0, 0, 0, 1, 0, 1, 0, 0, 0, 1, 0, 1],\n",
       " [0, 0, 0, 1, 0, 1, 0, 1, 0, 1, 1, 0, 1, 0, 0],\n",
       " [1, 1, 1, 1, 0, 1, 0, 0, 1, 0, 0, 0, 1, 1, 1],\n",
       " [1, 0, 0, 1, 0, 1, 1, 1, 0, 1, 0, 0, 1, 1, 0],\n",
       " [0, 0, 1, 0, 1, 1, 0, 1, 1, 1, 0, 1, 1, 0, 0],\n",
       " [1, 0, 1, 0, 1, 0, 0, 1, 0, 0, 0, 1, 0, 1, 0],\n",
       " [0, 1, 0, 1, 0, 1, 0, 0, 0, 1, 0, 1, 0, 0, 1],\n",
       " [0, 0, 1, 0, 0, 0, 0, 0, 1, 1, 1, 0, 1, 1, 0],\n",
       " [1, 1, 1, 0, 1, 0, 0, 0, 0, 1, 1, 0, 0, 0, 1],\n",
       " [1, 0, 1, 0, 0, 1, 0, 1, 1, 1, 0, 0, 1, 1, 1],\n",
       " [0, 0, 0, 0, 1, 1, 0, 0, 0, 0, 0, 1, 0, 1, 0],\n",
       " [1, 1, 1, 0, 1, 1, 0, 0, 1, 0, 1, 0, 1, 0, 1],\n",
       " [0, 1, 1, 0, 1, 1, 0, 1, 1, 0, 1, 1, 0, 1, 1],\n",
       " [1, 0, 0, 1, 1, 1, 1, 0, 0, 0, 0, 1, 0, 1, 0],\n",
       " [0, 0, 1, 1, 1, 0, 1, 0, 0, 0, 1, 1, 0, 1, 1],\n",
       " [0, 0, 0, 0, 1, 1, 0, 0, 0, 1, 0, 1, 1, 1, 1],\n",
       " [1, 0, 1, 1, 0, 1, 0, 1, 1, 1, 1, 0, 1, 0, 0],\n",
       " [1, 1, 0, 1, 0, 1, 1, 0, 1, 1, 1, 0, 1, 0, 1],\n",
       " [1, 1, 1, 0, 0, 0, 0, 1, 1, 1, 0, 0, 0, 0, 1],\n",
       " [1, 1, 0, 1, 0, 1, 1, 1, 1, 1, 1, 1, 0, 0, 1],\n",
       " [1, 1, 1, 0, 0, 1, 0, 1, 1, 0, 0, 0, 0, 0, 1],\n",
       " [1, 0, 1, 0, 0, 1, 0, 1, 0, 0, 1, 1, 0, 1, 1],\n",
       " [0, 0, 0, 0, 0, 0, 1, 1, 0, 1, 1, 0, 0, 1, 1],\n",
       " [1, 1, 0, 0, 0, 0, 0, 0, 1, 0, 0, 1, 1, 0, 1],\n",
       " [1, 0, 0, 1, 1, 1, 0, 0, 0, 0, 0, 1, 0, 1, 1],\n",
       " [1, 1, 0, 1, 1, 1, 0, 1, 1, 0, 1, 0, 0, 1, 0],\n",
       " [0, 0, 1, 0, 0, 0, 1, 0, 1, 1, 1, 0, 0, 0, 1],\n",
       " [1, 1, 0, 1, 0, 1, 0, 1, 1, 1, 1, 1, 0, 1, 0],\n",
       " [1, 0, 0, 0, 1, 1, 0, 0, 1, 0, 1, 1, 1, 0, 0],\n",
       " [1, 0, 1, 0, 0, 0, 0, 1, 0, 0, 0, 1, 1, 1, 0],\n",
       " [1, 1, 0, 1, 0, 1, 1, 0, 0, 0, 0, 0, 0, 0, 1],\n",
       " [1, 1, 1, 1, 0, 1, 0, 0, 0, 1, 0, 0, 0, 1, 0],\n",
       " [0, 1, 0, 1, 0, 0, 0, 0, 0, 0, 0, 0, 0, 0, 0],\n",
       " [1, 1, 0, 1, 0, 1, 0, 1, 0, 1, 0, 1, 1, 0, 1],\n",
       " [1, 0, 1, 1, 0, 0, 1, 1, 1, 0, 1, 0, 1, 1, 0],\n",
       " [1, 0, 0, 1, 0, 0, 0, 1, 0, 1, 0, 0, 1, 0, 0],\n",
       " [0, 1, 1, 0, 0, 1, 1, 0, 1, 0, 0, 0, 1, 0, 1],\n",
       " [1, 1, 1, 1, 1, 0, 0, 1, 0, 1, 1, 0, 1, 1, 0],\n",
       " [1, 0, 1, 1, 0, 0, 0, 0, 1, 1, 0, 0, 0, 0, 1],\n",
       " [1, 0, 0, 0, 1, 0, 0, 1, 1, 0, 0, 0, 0, 0, 1],\n",
       " [0, 0, 0, 0, 0, 1, 1, 1, 0, 0, 1, 1, 1, 1, 1],\n",
       " [0, 0, 0, 1, 0, 0, 0, 1, 0, 1, 1, 0, 1, 0, 1],\n",
       " [1, 0, 1, 1, 1, 1, 0, 0, 1, 1, 1, 1, 0, 0, 1],\n",
       " [1, 1, 0, 0, 0, 1, 1, 1, 0, 1, 0, 0, 1, 1, 0],\n",
       " [1, 0, 1, 0, 1, 0, 1, 1, 1, 1, 1, 1, 1, 0, 0],\n",
       " [1, 1, 0, 1, 0, 0, 0, 0, 0, 0, 0, 0, 0, 0, 0],\n",
       " [1, 0, 1, 0, 1, 1, 1, 1, 0, 0, 1, 0, 0, 0, 0],\n",
       " [0, 1, 0, 1, 0, 1, 1, 1, 1, 0, 1, 0, 1, 0, 1],\n",
       " [0, 1, 0, 0, 1, 1, 0, 0, 0, 0, 0, 1, 0, 1, 1],\n",
       " [1, 0, 0, 1, 1, 0, 1, 1, 0, 0, 1, 1, 1, 1, 0],\n",
       " [0, 1, 1, 1, 0, 1, 1, 0, 1, 0, 1, 0, 0, 0, 0],\n",
       " [0, 1, 1, 0, 1, 1, 0, 0, 0, 0, 1, 1, 0, 0, 1],\n",
       " [1, 1, 1, 0, 0, 0, 0, 1, 0, 1, 1, 0, 1, 0, 0],\n",
       " [1, 0, 1, 0, 1, 1, 0, 0, 0, 0, 1, 1, 0, 0, 0],\n",
       " [1, 0, 0, 0, 1, 1, 0, 1, 0, 1, 1, 0, 0, 0, 1],\n",
       " [1, 0, 0, 0, 0, 0, 1, 1, 0, 0, 1, 1, 0, 1, 1],\n",
       " [1, 0, 1, 0, 1, 1, 0, 0, 1, 0, 0, 0, 0, 1, 0],\n",
       " [1, 1, 0, 0, 1, 1, 1, 1, 0, 1, 1, 1, 0, 0, 1],\n",
       " [0, 1, 0, 0, 0, 0, 1, 1, 0, 1, 0, 0, 0, 0, 0],\n",
       " [0, 0, 0, 0, 1, 1, 0, 0, 0, 0, 1, 1, 0, 0, 1],\n",
       " [0, 0, 0, 0, 0, 0, 0, 1, 0, 0, 1, 1, 1, 1, 0],\n",
       " [0, 1, 1, 1, 0, 1, 1, 1, 0, 0, 0, 1, 0, 1, 0],\n",
       " [1, 1, 1, 1, 0, 1, 1, 1, 0, 1, 0, 0, 1, 0, 1],\n",
       " [1, 1, 1, 1, 1, 0, 1, 0, 0, 1, 0, 0, 0, 0, 1],\n",
       " [0, 1, 1, 0, 0, 1, 0, 1, 0, 1, 1, 0, 0, 1, 1],\n",
       " [1, 0, 0, 1, 0, 1, 1, 0, 0, 0, 0, 0, 0, 0, 0]]"
      ]
     },
     "execution_count": 145,
     "metadata": {},
     "output_type": "execute_result"
    }
   ],
   "source": [
    "population = generatePopulation(items)\n",
    "\n",
    "population"
   ]
  },
  {
   "cell_type": "markdown",
   "id": "118cefe7",
   "metadata": {},
   "source": [
    "### Avalição de cada indivíduo"
   ]
  },
  {
   "cell_type": "code",
   "execution_count": 146,
   "id": "436742aa",
   "metadata": {},
   "outputs": [],
   "source": [
    "#Função de avaliação (fitness)\n",
    "\n",
    "def fitness(individual, items):\n",
    "    total_weight = total_value = 0\n",
    "    #Percorre o cromossomo do indivíduo\n",
    "    for gene, item in zip(individual, items):\n",
    "        #Se o bit for igual a 1, o item será incluído na mochila\n",
    "        if gene:\n",
    "            #Calcula o peso e o valor\n",
    "            total_weight += item['weight']\n",
    "            total_value += item['value'] \n",
    "        # Se excedeu a capacidade máxima\n",
    "        if total_weight > CAPACITY:\n",
    "            return 0 # Penalização\n",
    "    #Quanto maior o valor, melhor o fitness\n",
    "    return total_value"
   ]
  },
  {
   "cell_type": "code",
   "execution_count": 147,
   "id": "c4ad6b5d",
   "metadata": {},
   "outputs": [
    {
     "data": {
      "text/plain": [
       "[([0, 1, 1, 1, 0, 1, 1, 1, 0, 1, 1, 0, 0, 1, 1], 0),\n",
       " ([0, 0, 0, 1, 1, 1, 1, 0, 0, 1, 1, 1, 0, 1, 1], 0),\n",
       " ([1, 1, 1, 1, 1, 0, 1, 1, 1, 1, 0, 0, 0, 1, 0], 0),\n",
       " ([1, 0, 0, 1, 0, 1, 0, 0, 0, 1, 0, 1, 0, 1, 0], 374),\n",
       " ([1, 0, 1, 1, 1, 0, 0, 0, 1, 1, 0, 0, 1, 0, 1], 0),\n",
       " ([1, 1, 1, 1, 0, 0, 0, 1, 1, 0, 1, 0, 1, 1, 1], 0),\n",
       " ([1, 1, 0, 1, 0, 0, 0, 0, 0, 0, 0, 0, 0, 0, 1], 285),\n",
       " ([1, 0, 0, 1, 1, 0, 1, 1, 0, 1, 0, 1, 1, 1, 0], 0),\n",
       " ([0, 1, 1, 0, 0, 1, 1, 0, 0, 0, 1, 0, 1, 0, 0], 0),\n",
       " ([0, 0, 1, 0, 0, 1, 1, 0, 0, 1, 0, 0, 1, 0, 1], 222),\n",
       " ([1, 0, 1, 1, 1, 1, 1, 0, 1, 1, 0, 0, 1, 0, 0], 0),\n",
       " ([0, 0, 1, 1, 1, 0, 1, 0, 0, 1, 1, 0, 0, 0, 0], 362),\n",
       " ([1, 0, 1, 1, 0, 1, 1, 0, 0, 0, 1, 0, 1, 1, 1], 0),\n",
       " ([0, 1, 0, 1, 0, 0, 1, 1, 0, 1, 0, 0, 1, 1, 0], 0),\n",
       " ([1, 0, 1, 1, 1, 1, 1, 1, 0, 1, 0, 0, 0, 1, 1], 0),\n",
       " ([0, 1, 1, 1, 0, 1, 1, 0, 0, 0, 0, 1, 1, 0, 0], 0),\n",
       " ([0, 1, 1, 0, 1, 1, 0, 1, 0, 1, 0, 0, 1, 1, 1], 0),\n",
       " ([0, 0, 1, 1, 0, 1, 0, 1, 1, 1, 1, 0, 0, 0, 1], 0),\n",
       " ([0, 0, 0, 1, 0, 1, 1, 1, 1, 0, 0, 0, 0, 1, 0], 0),\n",
       " ([1, 1, 1, 0, 0, 0, 0, 0, 1, 1, 1, 0, 0, 0, 0], 0),\n",
       " ([1, 1, 0, 0, 0, 0, 0, 0, 0, 1, 1, 0, 0, 1, 1], 0),\n",
       " ([1, 0, 0, 1, 1, 1, 1, 1, 0, 0, 1, 1, 1, 0, 0], 0),\n",
       " ([0, 0, 0, 0, 0, 1, 1, 1, 0, 0, 0, 0, 1, 0, 1], 151),\n",
       " ([0, 0, 1, 0, 1, 0, 0, 1, 0, 1, 1, 1, 0, 0, 0], 0),\n",
       " ([0, 1, 0, 1, 0, 0, 0, 0, 1, 1, 0, 0, 0, 0, 0], 339),\n",
       " ([0, 1, 0, 0, 1, 1, 0, 1, 0, 1, 1, 1, 0, 1, 1], 0),\n",
       " ([0, 0, 1, 0, 0, 0, 1, 1, 1, 1, 1, 0, 0, 0, 0], 0),\n",
       " ([1, 0, 1, 0, 0, 1, 1, 0, 1, 0, 0, 1, 0, 1, 1], 0),\n",
       " ([0, 1, 1, 0, 1, 1, 1, 0, 1, 0, 0, 0, 1, 1, 1], 0),\n",
       " ([1, 1, 0, 0, 0, 1, 0, 0, 0, 1, 0, 1, 1, 0, 0], 0),\n",
       " ([0, 1, 1, 1, 0, 0, 1, 0, 1, 0, 1, 0, 1, 1, 1], 0),\n",
       " ([0, 1, 1, 1, 0, 1, 1, 0, 0, 1, 0, 1, 0, 0, 1], 414),\n",
       " ([1, 1, 0, 1, 1, 0, 1, 0, 1, 0, 0, 1, 1, 0, 1], 0),\n",
       " ([1, 0, 0, 1, 0, 0, 0, 0, 1, 0, 0, 0, 1, 1, 0], 0),\n",
       " ([0, 1, 0, 0, 0, 0, 1, 0, 1, 0, 0, 0, 1, 0, 1], 0),\n",
       " ([0, 0, 0, 1, 0, 1, 0, 1, 0, 1, 1, 0, 1, 0, 0], 0),\n",
       " ([1, 1, 1, 1, 0, 1, 0, 0, 1, 0, 0, 0, 1, 1, 1], 0),\n",
       " ([1, 0, 0, 1, 0, 1, 1, 1, 0, 1, 0, 0, 1, 1, 0], 0),\n",
       " ([0, 0, 1, 0, 1, 1, 0, 1, 1, 1, 0, 1, 1, 0, 0], 0),\n",
       " ([1, 0, 1, 0, 1, 0, 0, 1, 0, 0, 0, 1, 0, 1, 0], 0),\n",
       " ([0, 1, 0, 1, 0, 1, 0, 0, 0, 1, 0, 1, 0, 0, 1], 371),\n",
       " ([0, 0, 1, 0, 0, 0, 0, 0, 1, 1, 1, 0, 1, 1, 0], 0),\n",
       " ([1, 1, 1, 0, 1, 0, 0, 0, 0, 1, 1, 0, 0, 0, 1], 0),\n",
       " ([1, 0, 1, 0, 0, 1, 0, 1, 1, 1, 0, 0, 1, 1, 1], 0),\n",
       " ([0, 0, 0, 0, 1, 1, 0, 0, 0, 0, 0, 1, 0, 1, 0], 200),\n",
       " ([1, 1, 1, 0, 1, 1, 0, 0, 1, 0, 1, 0, 1, 0, 1], 0),\n",
       " ([0, 1, 1, 0, 1, 1, 0, 1, 1, 0, 1, 1, 0, 1, 1], 0),\n",
       " ([1, 0, 0, 1, 1, 1, 1, 0, 0, 0, 0, 1, 0, 1, 0], 0),\n",
       " ([0, 0, 1, 1, 1, 0, 1, 0, 0, 0, 1, 1, 0, 1, 1], 0),\n",
       " ([0, 0, 0, 0, 1, 1, 0, 0, 0, 1, 0, 1, 1, 1, 1], 335),\n",
       " ([1, 0, 1, 1, 0, 1, 0, 1, 1, 1, 1, 0, 1, 0, 0], 0),\n",
       " ([1, 1, 0, 1, 0, 1, 1, 0, 1, 1, 1, 0, 1, 0, 1], 0),\n",
       " ([1, 1, 1, 0, 0, 0, 0, 1, 1, 1, 0, 0, 0, 0, 1], 0),\n",
       " ([1, 1, 0, 1, 0, 1, 1, 1, 1, 1, 1, 1, 0, 0, 1], 0),\n",
       " ([1, 1, 1, 0, 0, 1, 0, 1, 1, 0, 0, 0, 0, 0, 1], 0),\n",
       " ([1, 0, 1, 0, 0, 1, 0, 1, 0, 0, 1, 1, 0, 1, 1], 0),\n",
       " ([0, 0, 0, 0, 0, 0, 1, 1, 0, 1, 1, 0, 0, 1, 1], 0),\n",
       " ([1, 1, 0, 0, 0, 0, 0, 0, 1, 0, 0, 1, 1, 0, 1], 0),\n",
       " ([1, 0, 0, 1, 1, 1, 0, 0, 0, 0, 0, 1, 0, 1, 1], 0),\n",
       " ([1, 1, 0, 1, 1, 1, 0, 1, 1, 0, 1, 0, 0, 1, 0], 0),\n",
       " ([0, 0, 1, 0, 0, 0, 1, 0, 1, 1, 1, 0, 0, 0, 1], 0),\n",
       " ([1, 1, 0, 1, 0, 1, 0, 1, 1, 1, 1, 1, 0, 1, 0], 0),\n",
       " ([1, 0, 0, 0, 1, 1, 0, 0, 1, 0, 1, 1, 1, 0, 0], 0),\n",
       " ([1, 0, 1, 0, 0, 0, 0, 1, 0, 0, 0, 1, 1, 1, 0], 0),\n",
       " ([1, 1, 0, 1, 0, 1, 1, 0, 0, 0, 0, 0, 0, 0, 1], 351),\n",
       " ([1, 1, 1, 1, 0, 1, 0, 0, 0, 1, 0, 0, 0, 1, 0], 0),\n",
       " ([0, 1, 0, 1, 0, 0, 0, 0, 0, 0, 0, 0, 0, 0, 0], 179),\n",
       " ([1, 1, 0, 1, 0, 1, 0, 1, 0, 1, 0, 1, 1, 0, 1], 0),\n",
       " ([1, 0, 1, 1, 0, 0, 1, 1, 1, 0, 1, 0, 1, 1, 0], 0),\n",
       " ([1, 0, 0, 1, 0, 0, 0, 1, 0, 1, 0, 0, 1, 0, 0], 0),\n",
       " ([0, 1, 1, 0, 0, 1, 1, 0, 1, 0, 0, 0, 1, 0, 1], 0),\n",
       " ([1, 1, 1, 1, 1, 0, 0, 1, 0, 1, 1, 0, 1, 1, 0], 0),\n",
       " ([1, 0, 1, 1, 0, 0, 0, 0, 1, 1, 0, 0, 0, 0, 1], 368),\n",
       " ([1, 0, 0, 0, 1, 0, 0, 1, 1, 0, 0, 0, 0, 0, 1], 0),\n",
       " ([0, 0, 0, 0, 0, 1, 1, 1, 0, 0, 1, 1, 1, 1, 1], 0),\n",
       " ([0, 0, 0, 1, 0, 0, 0, 1, 0, 1, 1, 0, 1, 0, 1], 0),\n",
       " ([1, 0, 1, 1, 1, 1, 0, 0, 1, 1, 1, 1, 0, 0, 1], 0),\n",
       " ([1, 1, 0, 0, 0, 1, 1, 1, 0, 1, 0, 0, 1, 1, 0], 0),\n",
       " ([1, 0, 1, 0, 1, 0, 1, 1, 1, 1, 1, 1, 1, 0, 0], 0),\n",
       " ([1, 1, 0, 1, 0, 0, 0, 0, 0, 0, 0, 0, 0, 0, 0], 263),\n",
       " ([1, 0, 1, 0, 1, 1, 1, 1, 0, 0, 1, 0, 0, 0, 0], 0),\n",
       " ([0, 1, 0, 1, 0, 1, 1, 1, 1, 0, 1, 0, 1, 0, 1], 0),\n",
       " ([0, 1, 0, 0, 1, 1, 0, 0, 0, 0, 0, 1, 0, 1, 1], 320),\n",
       " ([1, 0, 0, 1, 1, 0, 1, 1, 0, 0, 1, 1, 1, 1, 0], 0),\n",
       " ([0, 1, 1, 1, 0, 1, 1, 0, 1, 0, 1, 0, 0, 0, 0], 0),\n",
       " ([0, 1, 1, 0, 1, 1, 0, 0, 0, 0, 1, 1, 0, 0, 1], 0),\n",
       " ([1, 1, 1, 0, 0, 0, 0, 1, 0, 1, 1, 0, 1, 0, 0], 0),\n",
       " ([1, 0, 1, 0, 1, 1, 0, 0, 0, 0, 1, 1, 0, 0, 0], 0),\n",
       " ([1, 0, 0, 0, 1, 1, 0, 1, 0, 1, 1, 0, 0, 0, 1], 0),\n",
       " ([1, 0, 0, 0, 0, 0, 1, 1, 0, 0, 1, 1, 0, 1, 1], 0),\n",
       " ([1, 0, 1, 0, 1, 1, 0, 0, 1, 0, 0, 0, 0, 1, 0], 0),\n",
       " ([1, 1, 0, 0, 1, 1, 1, 1, 0, 1, 1, 1, 0, 0, 1], 0),\n",
       " ([0, 1, 0, 0, 0, 0, 1, 1, 0, 1, 0, 0, 0, 0, 0], 224),\n",
       " ([0, 0, 0, 0, 1, 1, 0, 0, 0, 0, 1, 1, 0, 0, 1], 276),\n",
       " ([0, 0, 0, 0, 0, 0, 0, 1, 0, 0, 1, 1, 1, 1, 0], 0),\n",
       " ([0, 1, 1, 1, 0, 1, 1, 1, 0, 0, 0, 1, 0, 1, 0], 0),\n",
       " ([1, 1, 1, 1, 0, 1, 1, 1, 0, 1, 0, 0, 1, 0, 1], 0),\n",
       " ([1, 1, 1, 1, 1, 0, 1, 0, 0, 1, 0, 0, 0, 0, 1], 0),\n",
       " ([0, 1, 1, 0, 0, 1, 0, 1, 0, 1, 1, 0, 0, 1, 1], 0),\n",
       " ([1, 0, 0, 1, 0, 1, 1, 0, 0, 0, 0, 0, 0, 0, 0], 231)]"
      ]
     },
     "execution_count": 147,
     "metadata": {},
     "output_type": "execute_result"
    }
   ],
   "source": [
    "# Salva o cada individuo com seu valor fitness associado em uma tupla\n",
    "evaluated_population = [(individual, fitness(individual, items)) for individual in population]\n",
    "\n",
    "evaluated_population"
   ]
  },
  {
   "cell_type": "markdown",
   "id": "7769bee1",
   "metadata": {},
   "source": [
    "### Seleção dos indivíduos\n"
   ]
  },
  {
   "cell_type": "code",
   "execution_count": 148,
   "id": "91285f95",
   "metadata": {},
   "outputs": [],
   "source": [
    "# Função de rankeamento \n",
    "\n",
    "def rankAssignment(evaluated_population):\n",
    "    # Ordena a população por ordem cresente de fitness\n",
    "    evaluated_population = sorted(evaluated_population, key=lambda x: x[1])\n",
    "\n",
    "    # Atribui o valor de ranking para cada individu0\n",
    "    # Sendo menor_fitness = 0 e maior_fitness = POP_SIZE\n",
    "    ranked_population  = [(ind[0], ind[1], rank)for rank , ind in enumerate(evaluated_population)]\n",
    "\n",
    "    return ranked_population"
   ]
  },
  {
   "cell_type": "code",
   "execution_count": 149,
   "id": "6ba2435b",
   "metadata": {},
   "outputs": [
    {
     "data": {
      "text/plain": [
       "[([0, 1, 1, 1, 0, 1, 1, 1, 0, 1, 1, 0, 0, 1, 1], 0, 0),\n",
       " ([0, 0, 0, 1, 1, 1, 1, 0, 0, 1, 1, 1, 0, 1, 1], 0, 1),\n",
       " ([1, 1, 1, 1, 1, 0, 1, 1, 1, 1, 0, 0, 0, 1, 0], 0, 2),\n",
       " ([1, 0, 1, 1, 1, 0, 0, 0, 1, 1, 0, 0, 1, 0, 1], 0, 3),\n",
       " ([1, 1, 1, 1, 0, 0, 0, 1, 1, 0, 1, 0, 1, 1, 1], 0, 4),\n",
       " ([1, 0, 0, 1, 1, 0, 1, 1, 0, 1, 0, 1, 1, 1, 0], 0, 5),\n",
       " ([0, 1, 1, 0, 0, 1, 1, 0, 0, 0, 1, 0, 1, 0, 0], 0, 6),\n",
       " ([1, 0, 1, 1, 1, 1, 1, 0, 1, 1, 0, 0, 1, 0, 0], 0, 7),\n",
       " ([1, 0, 1, 1, 0, 1, 1, 0, 0, 0, 1, 0, 1, 1, 1], 0, 8),\n",
       " ([0, 1, 0, 1, 0, 0, 1, 1, 0, 1, 0, 0, 1, 1, 0], 0, 9),\n",
       " ([1, 0, 1, 1, 1, 1, 1, 1, 0, 1, 0, 0, 0, 1, 1], 0, 10),\n",
       " ([0, 1, 1, 1, 0, 1, 1, 0, 0, 0, 0, 1, 1, 0, 0], 0, 11),\n",
       " ([0, 1, 1, 0, 1, 1, 0, 1, 0, 1, 0, 0, 1, 1, 1], 0, 12),\n",
       " ([0, 0, 1, 1, 0, 1, 0, 1, 1, 1, 1, 0, 0, 0, 1], 0, 13),\n",
       " ([0, 0, 0, 1, 0, 1, 1, 1, 1, 0, 0, 0, 0, 1, 0], 0, 14),\n",
       " ([1, 1, 1, 0, 0, 0, 0, 0, 1, 1, 1, 0, 0, 0, 0], 0, 15),\n",
       " ([1, 1, 0, 0, 0, 0, 0, 0, 0, 1, 1, 0, 0, 1, 1], 0, 16),\n",
       " ([1, 0, 0, 1, 1, 1, 1, 1, 0, 0, 1, 1, 1, 0, 0], 0, 17),\n",
       " ([0, 0, 1, 0, 1, 0, 0, 1, 0, 1, 1, 1, 0, 0, 0], 0, 18),\n",
       " ([0, 1, 0, 0, 1, 1, 0, 1, 0, 1, 1, 1, 0, 1, 1], 0, 19),\n",
       " ([0, 0, 1, 0, 0, 0, 1, 1, 1, 1, 1, 0, 0, 0, 0], 0, 20),\n",
       " ([1, 0, 1, 0, 0, 1, 1, 0, 1, 0, 0, 1, 0, 1, 1], 0, 21),\n",
       " ([0, 1, 1, 0, 1, 1, 1, 0, 1, 0, 0, 0, 1, 1, 1], 0, 22),\n",
       " ([1, 1, 0, 0, 0, 1, 0, 0, 0, 1, 0, 1, 1, 0, 0], 0, 23),\n",
       " ([0, 1, 1, 1, 0, 0, 1, 0, 1, 0, 1, 0, 1, 1, 1], 0, 24),\n",
       " ([1, 1, 0, 1, 1, 0, 1, 0, 1, 0, 0, 1, 1, 0, 1], 0, 25),\n",
       " ([1, 0, 0, 1, 0, 0, 0, 0, 1, 0, 0, 0, 1, 1, 0], 0, 26),\n",
       " ([0, 1, 0, 0, 0, 0, 1, 0, 1, 0, 0, 0, 1, 0, 1], 0, 27),\n",
       " ([0, 0, 0, 1, 0, 1, 0, 1, 0, 1, 1, 0, 1, 0, 0], 0, 28),\n",
       " ([1, 1, 1, 1, 0, 1, 0, 0, 1, 0, 0, 0, 1, 1, 1], 0, 29),\n",
       " ([1, 0, 0, 1, 0, 1, 1, 1, 0, 1, 0, 0, 1, 1, 0], 0, 30),\n",
       " ([0, 0, 1, 0, 1, 1, 0, 1, 1, 1, 0, 1, 1, 0, 0], 0, 31),\n",
       " ([1, 0, 1, 0, 1, 0, 0, 1, 0, 0, 0, 1, 0, 1, 0], 0, 32),\n",
       " ([0, 0, 1, 0, 0, 0, 0, 0, 1, 1, 1, 0, 1, 1, 0], 0, 33),\n",
       " ([1, 1, 1, 0, 1, 0, 0, 0, 0, 1, 1, 0, 0, 0, 1], 0, 34),\n",
       " ([1, 0, 1, 0, 0, 1, 0, 1, 1, 1, 0, 0, 1, 1, 1], 0, 35),\n",
       " ([1, 1, 1, 0, 1, 1, 0, 0, 1, 0, 1, 0, 1, 0, 1], 0, 36),\n",
       " ([0, 1, 1, 0, 1, 1, 0, 1, 1, 0, 1, 1, 0, 1, 1], 0, 37),\n",
       " ([1, 0, 0, 1, 1, 1, 1, 0, 0, 0, 0, 1, 0, 1, 0], 0, 38),\n",
       " ([0, 0, 1, 1, 1, 0, 1, 0, 0, 0, 1, 1, 0, 1, 1], 0, 39),\n",
       " ([1, 0, 1, 1, 0, 1, 0, 1, 1, 1, 1, 0, 1, 0, 0], 0, 40),\n",
       " ([1, 1, 0, 1, 0, 1, 1, 0, 1, 1, 1, 0, 1, 0, 1], 0, 41),\n",
       " ([1, 1, 1, 0, 0, 0, 0, 1, 1, 1, 0, 0, 0, 0, 1], 0, 42),\n",
       " ([1, 1, 0, 1, 0, 1, 1, 1, 1, 1, 1, 1, 0, 0, 1], 0, 43),\n",
       " ([1, 1, 1, 0, 0, 1, 0, 1, 1, 0, 0, 0, 0, 0, 1], 0, 44),\n",
       " ([1, 0, 1, 0, 0, 1, 0, 1, 0, 0, 1, 1, 0, 1, 1], 0, 45),\n",
       " ([0, 0, 0, 0, 0, 0, 1, 1, 0, 1, 1, 0, 0, 1, 1], 0, 46),\n",
       " ([1, 1, 0, 0, 0, 0, 0, 0, 1, 0, 0, 1, 1, 0, 1], 0, 47),\n",
       " ([1, 0, 0, 1, 1, 1, 0, 0, 0, 0, 0, 1, 0, 1, 1], 0, 48),\n",
       " ([1, 1, 0, 1, 1, 1, 0, 1, 1, 0, 1, 0, 0, 1, 0], 0, 49),\n",
       " ([0, 0, 1, 0, 0, 0, 1, 0, 1, 1, 1, 0, 0, 0, 1], 0, 50),\n",
       " ([1, 1, 0, 1, 0, 1, 0, 1, 1, 1, 1, 1, 0, 1, 0], 0, 51),\n",
       " ([1, 0, 0, 0, 1, 1, 0, 0, 1, 0, 1, 1, 1, 0, 0], 0, 52),\n",
       " ([1, 0, 1, 0, 0, 0, 0, 1, 0, 0, 0, 1, 1, 1, 0], 0, 53),\n",
       " ([1, 1, 1, 1, 0, 1, 0, 0, 0, 1, 0, 0, 0, 1, 0], 0, 54),\n",
       " ([1, 1, 0, 1, 0, 1, 0, 1, 0, 1, 0, 1, 1, 0, 1], 0, 55),\n",
       " ([1, 0, 1, 1, 0, 0, 1, 1, 1, 0, 1, 0, 1, 1, 0], 0, 56),\n",
       " ([1, 0, 0, 1, 0, 0, 0, 1, 0, 1, 0, 0, 1, 0, 0], 0, 57),\n",
       " ([0, 1, 1, 0, 0, 1, 1, 0, 1, 0, 0, 0, 1, 0, 1], 0, 58),\n",
       " ([1, 1, 1, 1, 1, 0, 0, 1, 0, 1, 1, 0, 1, 1, 0], 0, 59),\n",
       " ([1, 0, 0, 0, 1, 0, 0, 1, 1, 0, 0, 0, 0, 0, 1], 0, 60),\n",
       " ([0, 0, 0, 0, 0, 1, 1, 1, 0, 0, 1, 1, 1, 1, 1], 0, 61),\n",
       " ([0, 0, 0, 1, 0, 0, 0, 1, 0, 1, 1, 0, 1, 0, 1], 0, 62),\n",
       " ([1, 0, 1, 1, 1, 1, 0, 0, 1, 1, 1, 1, 0, 0, 1], 0, 63),\n",
       " ([1, 1, 0, 0, 0, 1, 1, 1, 0, 1, 0, 0, 1, 1, 0], 0, 64),\n",
       " ([1, 0, 1, 0, 1, 0, 1, 1, 1, 1, 1, 1, 1, 0, 0], 0, 65),\n",
       " ([1, 0, 1, 0, 1, 1, 1, 1, 0, 0, 1, 0, 0, 0, 0], 0, 66),\n",
       " ([0, 1, 0, 1, 0, 1, 1, 1, 1, 0, 1, 0, 1, 0, 1], 0, 67),\n",
       " ([1, 0, 0, 1, 1, 0, 1, 1, 0, 0, 1, 1, 1, 1, 0], 0, 68),\n",
       " ([0, 1, 1, 1, 0, 1, 1, 0, 1, 0, 1, 0, 0, 0, 0], 0, 69),\n",
       " ([0, 1, 1, 0, 1, 1, 0, 0, 0, 0, 1, 1, 0, 0, 1], 0, 70),\n",
       " ([1, 1, 1, 0, 0, 0, 0, 1, 0, 1, 1, 0, 1, 0, 0], 0, 71),\n",
       " ([1, 0, 1, 0, 1, 1, 0, 0, 0, 0, 1, 1, 0, 0, 0], 0, 72),\n",
       " ([1, 0, 0, 0, 1, 1, 0, 1, 0, 1, 1, 0, 0, 0, 1], 0, 73),\n",
       " ([1, 0, 0, 0, 0, 0, 1, 1, 0, 0, 1, 1, 0, 1, 1], 0, 74),\n",
       " ([1, 0, 1, 0, 1, 1, 0, 0, 1, 0, 0, 0, 0, 1, 0], 0, 75),\n",
       " ([1, 1, 0, 0, 1, 1, 1, 1, 0, 1, 1, 1, 0, 0, 1], 0, 76),\n",
       " ([0, 0, 0, 0, 0, 0, 0, 1, 0, 0, 1, 1, 1, 1, 0], 0, 77),\n",
       " ([0, 1, 1, 1, 0, 1, 1, 1, 0, 0, 0, 1, 0, 1, 0], 0, 78),\n",
       " ([1, 1, 1, 1, 0, 1, 1, 1, 0, 1, 0, 0, 1, 0, 1], 0, 79),\n",
       " ([1, 1, 1, 1, 1, 0, 1, 0, 0, 1, 0, 0, 0, 0, 1], 0, 80),\n",
       " ([0, 1, 1, 0, 0, 1, 0, 1, 0, 1, 1, 0, 0, 1, 1], 0, 81),\n",
       " ([0, 0, 0, 0, 0, 1, 1, 1, 0, 0, 0, 0, 1, 0, 1], 151, 82),\n",
       " ([0, 1, 0, 1, 0, 0, 0, 0, 0, 0, 0, 0, 0, 0, 0], 179, 83),\n",
       " ([0, 0, 0, 0, 1, 1, 0, 0, 0, 0, 0, 1, 0, 1, 0], 200, 84),\n",
       " ([0, 0, 1, 0, 0, 1, 1, 0, 0, 1, 0, 0, 1, 0, 1], 222, 85),\n",
       " ([0, 1, 0, 0, 0, 0, 1, 1, 0, 1, 0, 0, 0, 0, 0], 224, 86),\n",
       " ([1, 0, 0, 1, 0, 1, 1, 0, 0, 0, 0, 0, 0, 0, 0], 231, 87),\n",
       " ([1, 1, 0, 1, 0, 0, 0, 0, 0, 0, 0, 0, 0, 0, 0], 263, 88),\n",
       " ([0, 0, 0, 0, 1, 1, 0, 0, 0, 0, 1, 1, 0, 0, 1], 276, 89),\n",
       " ([1, 1, 0, 1, 0, 0, 0, 0, 0, 0, 0, 0, 0, 0, 1], 285, 90),\n",
       " ([0, 1, 0, 0, 1, 1, 0, 0, 0, 0, 0, 1, 0, 1, 1], 320, 91),\n",
       " ([0, 0, 0, 0, 1, 1, 0, 0, 0, 1, 0, 1, 1, 1, 1], 335, 92),\n",
       " ([0, 1, 0, 1, 0, 0, 0, 0, 1, 1, 0, 0, 0, 0, 0], 339, 93),\n",
       " ([1, 1, 0, 1, 0, 1, 1, 0, 0, 0, 0, 0, 0, 0, 1], 351, 94),\n",
       " ([0, 0, 1, 1, 1, 0, 1, 0, 0, 1, 1, 0, 0, 0, 0], 362, 95),\n",
       " ([1, 0, 1, 1, 0, 0, 0, 0, 1, 1, 0, 0, 0, 0, 1], 368, 96),\n",
       " ([0, 1, 0, 1, 0, 1, 0, 0, 0, 1, 0, 1, 0, 0, 1], 371, 97),\n",
       " ([1, 0, 0, 1, 0, 1, 0, 0, 0, 1, 0, 1, 0, 1, 0], 374, 98),\n",
       " ([0, 1, 1, 1, 0, 1, 1, 0, 0, 1, 0, 1, 0, 0, 1], 414, 99)]"
      ]
     },
     "execution_count": 149,
     "metadata": {},
     "output_type": "execute_result"
    }
   ],
   "source": [
    "ranked_population = rankAssignment(evaluated_population)\n",
    "ranked_population"
   ]
  },
  {
   "cell_type": "code",
   "execution_count": 150,
   "id": "fea44c80",
   "metadata": {},
   "outputs": [],
   "source": [
    "# Função de seleção\n",
    "\n",
    "def rankSelection(ranked_population):\n",
    "    # Gera valores entre 0 e 1\n",
    "    offset = random.random()\n",
    "    sum = 0\n",
    "\n",
    "     # Cria a fatia POP_SIZE(POP_SIZE + 1)/2\n",
    "    population_size = len(ranked_population) \n",
    "    slice = (population_size*(population_size + 1))/2\n",
    "\n",
    "    # Seleciona um valor que possui a soma acumulativa maior que o valor random\n",
    "    for individual in ranked_population:\n",
    "        sum += (individual[2] + 1)/slice \n",
    "        if sum >= offset:\n",
    "            return individual"
   ]
  },
  {
   "cell_type": "code",
   "execution_count": 151,
   "id": "4d727650",
   "metadata": {},
   "outputs": [
    {
     "name": "stdout",
     "output_type": "stream",
     "text": [
      "Individuo 1: ([0, 0, 0, 0, 1, 1, 0, 0, 0, 0, 0, 1, 0, 1, 0], 200, 84)\n",
      "Individuo 2: ([1, 0, 1, 1, 0, 0, 0, 0, 1, 1, 0, 0, 0, 0, 1], 368, 96)\n"
     ]
    }
   ],
   "source": [
    "selectedInd1 = rankSelection(ranked_population)\n",
    "selectedInd2 = rankSelection(ranked_population)\n",
    "\n",
    "print(f'Individuo 1: {selectedInd1}\\nIndividuo 2: {selectedInd2}')\n"
   ]
  },
  {
   "cell_type": "markdown",
   "id": "8f2b9ec4",
   "metadata": {},
   "source": [
    "### Crossovers"
   ]
  },
  {
   "cell_type": "markdown",
   "id": "76edc16b",
   "metadata": {},
   "source": [
    "Para melhor variabilidade, utilizaremos o Uniform Crossover durante as primeira gerações e, no final, o Multi-Point Crossover"
   ]
  },
  {
   "cell_type": "code",
   "execution_count": 152,
   "id": "687e5360",
   "metadata": {},
   "outputs": [],
   "source": [
    "# Recombinação Uniforme - Utilizado nas primeiras gerações\n",
    "def uniformCrossover(parent1, parent2):\n",
    "    child = []\n",
    "\n",
    "    # Escolhe de maneira aleatoria o bit de um dos pais para cada item da mochila\n",
    "    for i in range(len(parent1[0])):\n",
    "        gene = random.choice([parent1[0][i], parent2[0][i]])\n",
    "        child.append(gene)\n",
    "\n",
    "    return child"
   ]
  },
  {
   "cell_type": "code",
   "execution_count": 153,
   "id": "0c1ccfd7",
   "metadata": {},
   "outputs": [],
   "source": [
    "# Recombinação de Multiplos Pontos\n",
    "# Aplica-se a divisão de dois pontos\n",
    "def multiPointCrossover(parent1, parent2):\n",
    "\n",
    "    child1 = []\n",
    "    child2 = []\n",
    "\n",
    "    # Define o tamanho do segmento baseado no numero de divisoes \n",
    "    segment_size = NUM_ITEMS//DIVISION_NUM\n",
    "    \n",
    "\n",
    "    for i in range(DIVISION_NUM):\n",
    "\n",
    "        # Itera pelas divisoes alternando os segmentos de cada pai nos filhos\n",
    "        start = i*segment_size\n",
    "        end = start + segment_size if i != DIVISION_NUM - 1 else NUM_ITEMS  # Muda ao chegar no fim da lista\n",
    "\n",
    "        # Logica para a alternância\n",
    "        if i%2 == 0:\n",
    "            child1.extend(parent1[0][start:end])\n",
    "            child2.extend(parent2[0][start:end])\n",
    "        else:\n",
    "            child1.extend(parent2[0][start:end])\n",
    "            child2.extend(parent1[0][start:end])\n",
    "    \n",
    "    # retorna os filhos\n",
    "    return child1, child2\n"
   ]
  },
  {
   "cell_type": "code",
   "execution_count": 154,
   "id": "1805fd91",
   "metadata": {},
   "outputs": [
    {
     "name": "stdout",
     "output_type": "stream",
     "text": [
      "Filho 1: [0, 0, 1, 1, 1, 0, 0, 0, 0, 0, 0, 0, 0, 0, 0]\n",
      "Filho 2: [0, 0, 0, 1, 1, 1, 0, 0, 1, 0, 0, 0, 0, 0, 0]\n"
     ]
    }
   ],
   "source": [
    "# Criando filhos com a Recombinação Uniforme \n",
    "\n",
    "child1 = uniformCrossover(selectedInd1, selectedInd2)\n",
    "child2 = uniformCrossover(selectedInd1, selectedInd2)\n",
    "\n",
    "print(f'Filho 1: {child1}\\nFilho 2: {child2}')"
   ]
  },
  {
   "cell_type": "code",
   "execution_count": 155,
   "id": "adc90c6a",
   "metadata": {},
   "outputs": [
    {
     "name": "stdout",
     "output_type": "stream",
     "text": [
      "Filho 1: [0, 0, 0, 0, 1, 1, 0, 0, 1, 1, 0, 0, 0, 0, 1]\n",
      "Filho 2: [1, 0, 1, 1, 0, 0, 0, 0, 0, 0, 0, 1, 0, 1, 0]\n"
     ]
    }
   ],
   "source": [
    "# Criando filhos com a Recombinação de Multiplos Pontos\n",
    "\n",
    "child1, child2 = multiPointCrossover(selectedInd1, selectedInd2)\n",
    "\n",
    "print(f'Filho 1: {child1}\\nFilho 2: {child2}')"
   ]
  },
  {
   "cell_type": "markdown",
   "id": "ce346727",
   "metadata": {},
   "source": [
    "### Mutação"
   ]
  },
  {
   "cell_type": "code",
   "execution_count": 156,
   "id": "2ccdaf18",
   "metadata": {},
   "outputs": [],
   "source": [
    "# A partir da taxa de mutação, é avaliado se o indivíduo sofre mutação\n",
    "\n",
    "def bitFlipMutation(individual):\n",
    "    # Avalia cada bit do filho\n",
    "    for i in range(len(individual)):\n",
    "        if random.random() < MUTATION_RATE: # Se menor que a taxa, realiza a mutação\n",
    "            individual[i] = 1 - individual[i] # Realiza o flip do bit\n",
    "    return individual"
   ]
  },
  {
   "cell_type": "code",
   "execution_count": 157,
   "id": "158fae8c",
   "metadata": {},
   "outputs": [
    {
     "name": "stdout",
     "output_type": "stream",
     "text": [
      "Filho antes da mutação: [0, 0, 0, 0, 1, 1, 0, 0, 1, 1, 0, 0, 0, 0, 1]\n",
      "Filho depois da mutação: [0, 0, 0, 0, 1, 1, 0, 0, 1, 1, 0, 0, 0, 0, 1]\n",
      "Filho antes da mutação: [1, 0, 1, 1, 0, 0, 0, 0, 0, 0, 0, 1, 0, 1, 0]\n",
      "Filho depois da mutação: [1, 0, 1, 1, 0, 0, 0, 0, 0, 0, 1, 1, 0, 1, 0]\n"
     ]
    }
   ],
   "source": [
    "print(f'Filho antes da mutação: {child1}')\n",
    "child1 = bitFlipMutation(child1)\n",
    "print(f'Filho depois da mutação: {child1}')\n",
    "\n",
    "print(f'Filho antes da mutação: {child2}')\n",
    "child2 = bitFlipMutation(child2)\n",
    "print(f'Filho depois da mutação: {child2}')"
   ]
  },
  {
   "cell_type": "markdown",
   "id": "8fade411",
   "metadata": {},
   "source": [
    "### O Algoritmo Genético"
   ]
  },
  {
   "cell_type": "code",
   "execution_count": 178,
   "id": "5c1b7d10",
   "metadata": {},
   "outputs": [],
   "source": [
    "# Realização de GENARATION_NUM iterações\n",
    "def geneticAlgorithm(items):\n",
    "\n",
    "    start = time.time() # Registra o tempo de execução\n",
    "\n",
    "    # Listas para salvar estatisticas sobre os fitness de cada geração\n",
    "    best_fitness_per_generation = []\n",
    "    avg_fitness_per_generation = []\n",
    "\n",
    "    # Gera a população inicial\n",
    "    population = generatePopulation(items)\n",
    "\n",
    "    for i in range(GENERATION_NUM):\n",
    "\n",
    "\n",
    "        # ======== FASE DE AVALIAÇÃO ============\n",
    "\n",
    "        # Salva o cada individuo com seu valor fitness associado em uma tupla\n",
    "        evaluated_population = [(individual, fitness(individual, items)) for individual in population]\n",
    "        \n",
    "        # Encontra o melhor fitness da atual geração e a média de fitness\n",
    "        fitness_values = [ind[1] for ind in evaluated_population]\n",
    "        best_fitness = max(fitness_values)\n",
    "        avg_fitness = sum(fitness_values)/ len(fitness_values)\n",
    "\n",
    "        # Salva esses valores\n",
    "        best_fitness_per_generation.append(best_fitness)\n",
    "        avg_fitness_per_generation.append(avg_fitness)\n",
    "\n",
    "        # ======== FASE DE SELEÇÃO ==============\n",
    "\n",
    "        # Realiza o rankeamento da população\n",
    "        ranked_population = rankAssignment(evaluated_population)\n",
    "\n",
    "        # Realiza o tecnica de elitismo\n",
    "        elite_size = int(ELITE_RATE * POP_SIZE)\n",
    "        elite_group = ranked_population[-elite_size:] # Separa o grupo com menor fitness\n",
    "        # Remonta a lista sem o elite_group\n",
    "        ranked_population = ranked_population[:-elite_size]\n",
    "\n",
    "        # Lista que armazena a nova populacao\n",
    "        new_population = []\n",
    "\n",
    "        while len(new_population) < POP_SIZE - elite_size:\n",
    "\n",
    "            # Realiza a seleção de dois individuos para o crossover\n",
    "            parent1 = rankSelection(ranked_population)\n",
    "            parent2 = rankSelection(ranked_population)\n",
    "\n",
    "        # ============== FASE DE CROSSOVER ===========\n",
    "\n",
    "            # Decide qual tipo de crossover realizar\n",
    "            if i < GENERATION_NUM * 0.5:\n",
    "                child1 = uniformCrossover(parent1, parent2)\n",
    "                child2 = uniformCrossover(parent1, parent2)\n",
    "\n",
    "            else:\n",
    "                child1, child2 = multiPointCrossover(parent1, parent2)\n",
    "\n",
    "            # Realiza as possiveis mutações\n",
    "            child1 = bitFlipMutation(child1)\n",
    "            child2 = bitFlipMutation(child2)\n",
    "\n",
    "            # Adiciona os filhos à nova população\n",
    "            new_population.append(child1)\n",
    "            if len(new_population) < POP_SIZE - elite_size:\n",
    "                new_population.append(child2)\n",
    "            \n",
    "        # ============== CONCEPÇÃO DA NOVA GERAÇÃO =======\n",
    "        for elite in elite_group:\n",
    "            new_population.append(elite[0])\n",
    "        population = new_population\n",
    "\n",
    "    # Raliza o teste de fitness uma ultima vez para pegar o melhor resultado\n",
    "    evaluated_population = [(individual, fitness(individual, items)) for individual in population]\n",
    "    best_individual = max(evaluated_population, key=lambda x: x[1])\n",
    "\n",
    "    end = time.time() - start # Coleta o tempo de execução\n",
    "\n",
    "    return best_individual, best_fitness_per_generation, avg_fitness_per_generation, end\n",
    "        "
   ]
  },
  {
   "cell_type": "markdown",
   "id": "320294dd",
   "metadata": {},
   "source": [
    "### Realizando testes"
   ]
  },
  {
   "cell_type": "code",
   "execution_count": 184,
   "id": "7b6dfae3",
   "metadata": {},
   "outputs": [],
   "source": [
    "# Função para gerar gráfico de avalição\n",
    "\n",
    "def plotGraph(best_fitness, avg_fitness):\n",
    "\n",
    "    generations = list(range(len(avg_fitness)))\n",
    "    avg = avg_fitness\n",
    "    max_ = best_fitness\n",
    "\n",
    "    plt.figure(figsize=(10, 6))\n",
    "\n",
    "    # Plotando valor maximo\n",
    "    plt.plot(generations, max_, 'r-*', label='Max')\n",
    "\n",
    "    # Plotando valor medio\n",
    "    plt.plot(generations, avg, 'k->', label='Avg')\n",
    "\n",
    "\n",
    "    plt.xlabel('Times')\n",
    "    plt.ylabel('Function fitness')\n",
    "    plt.title('Fitness over Generations')\n",
    "    plt.legend()\n",
    "    plt.grid(True)\n",
    "\n",
    "    plt.tight_layout()\n",
    "    plt.show()"
   ]
  },
  {
   "cell_type": "code",
   "execution_count": 185,
   "id": "146816c4",
   "metadata": {},
   "outputs": [
    {
     "name": "stdout",
     "output_type": "stream",
     "text": [
      "Combinacao Final: 0 3 4 5 6 9 10 12 \n",
      "Valor Final: 448\n",
      "Tempo Final : 0.1146\n"
     ]
    },
    {
     "data": {
      "image/png": "[encoded data removed]",
      "text/plain": [
       "<Figure size 1000x600 with 1 Axes>"
      ]
     },
     "metadata": {},
     "output_type": "display_data"
    }
   ],
   "source": [
    "# Teste com 15 itens\n",
    "best_individual15, best_fiteness_generation15, avg_fitness_per_generation15, finalTime15 = geneticAlgorithm(items15)\n",
    "\n",
    "print('Combinacao Final:', end=' ')\n",
    "for index, gene in enumerate(best_individual15[0]):\n",
    "    if gene == 1:\n",
    "        print(index, end=' ')\n",
    "print(f'\\nValor Final: {best_individual15[1]}\\nTempo Final : {finalTime15:.4f}')\n",
    "\n",
    "# Gerando grafico\n",
    "plotGraph(best_fiteness_generation15, avg_fitness_per_generation15)"
   ]
  },
  {
   "cell_type": "markdown",
   "id": "9c7f28ec",
   "metadata": {},
   "source": []
  }
 ],
 "metadata": {
  "kernelspec": {
   "display_name": "Python 3",
   "language": "python",
   "name": "python3"
  },
  "language_info": {
   "codemirror_mode": {
    "name": "ipython",
    "version": 3
   },
   "file_extension": ".py",
   "mimetype": "text/x-python",
   "name": "python",
   "nbconvert_exporter": "python",
   "pygments_lexer": "ipython3",
   "version": "3.12.3"
  }
 },
 "nbformat": 4,
 "nbformat_minor": 5
}
